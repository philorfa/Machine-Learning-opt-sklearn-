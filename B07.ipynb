{
  "nbformat": 4,
  "nbformat_minor": 0,
  "metadata": {
    "colab": {
      "name": "B07.ipynb",
      "provenance": [],
      "collapsed_sections": []
    },
    "kernelspec": {
      "name": "python3",
      "display_name": "Python 3"
    },
    "accelerator": "GPU"
  },
  "cells": [
    {
      "cell_type": "markdown",
      "metadata": {
        "id": "H5zwcXf23d_R"
      },
      "source": [
        "Η ομάδα μας έχοντας τον αριθμό 31 έχει αναλάβει να αντιμετωπίσει το πρόβλημα της παλιδρόμησης (regression) για το Big Dataset B07. To Dataset αυτό αντιστοιχεί στο [Communities and Crime Data Set](https://archive.ics.uci.edu/ml/datasets/Communities+and+Crime). "
      ]
    },
    {
      "cell_type": "markdown",
      "metadata": {
        "id": "PhIPi-v34ZL4"
      },
      "source": [
        "# Ανάλυση Dataset"
      ]
    },
    {
      "cell_type": "code",
      "metadata": {
        "id": "TWjj0tNT5f9k"
      },
      "source": [
        "import time\r\n",
        "import numpy as np\r\n",
        "import pandas as pd\r\n",
        "from sklearn.model_selection import train_test_split\r\n",
        "from sklearn.impute import SimpleImputer\r\n",
        "import matplotlib.pyplot as plt\r\n",
        "import seaborn as sns\r\n",
        "from sklearn.decomposition import PCA\r\n",
        "\r\n",
        "from sklearn.preprocessing import Normalizer, MinMaxScaler, StandardScaler\r\n",
        "from sklearn.feature_selection import VarianceThreshold\r\n",
        "from sklearn.model_selection import cross_validate\r\n",
        "\r\n",
        "\r\n",
        "from sklearn.pipeline import Pipeline\r\n",
        "from sklearn.model_selection import GridSearchCV\r\n",
        "\r\n",
        "from sklearn.linear_model import Ridge,Lasso,ElasticNet,SGDRegressor\r\n",
        "from sklearn.neural_network import MLPRegressor\r\n",
        "from sklearn.ensemble import ExtraTreesRegressor,GradientBoostingRegressor\r\n",
        "\r\n",
        "\r\n",
        "from sklearn.metrics import r2_score, mean_squared_error, make_scorer\r\n",
        "\r\n",
        "pd.options.mode.chained_assignment = None"
      ],
      "execution_count": 84,
      "outputs": []
    },
    {
      "cell_type": "code",
      "metadata": {
        "id": "tC1T3y4z7DRF"
      },
      "source": [
        "columns=[\"state\"\r\n",
        ",\"county\"\r\n",
        ",\"community\"\r\n",
        ",\"communityname\"\r\n",
        ",\"fold\"\r\n",
        ",\"population\"\r\n",
        ",\"householdsize\"\r\n",
        ",\"racepctblack\"\r\n",
        ",\"racePctWhite\"\r\n",
        ",\"racePctAsian\"\r\n",
        ",\"racePctHisp\"\r\n",
        ",\"agePct12t21\"\r\n",
        ",\"agePct12t29\"\r\n",
        ",\"agePct16t24\"\r\n",
        ",\"agePct65up\"\r\n",
        ",\"numbUrban\"\r\n",
        ",\"pctUrban\"\r\n",
        ",\"medIncome\"\r\n",
        ",\"pctWWage\"\r\n",
        ",\"pctWFarmSelf\"\r\n",
        ",\"pctWInvInc\"\r\n",
        ",\"pctWSocSec\"\r\n",
        ",\"pctWPubAsst\"\r\n",
        ",\"pctWRetire\"\r\n",
        ",\"medFamInc\"\r\n",
        ",\"perCapInc\"\r\n",
        ",\"whitePerCap\"\r\n",
        ",\"blackPerCap\"\r\n",
        ",\"indianPerCap\"\r\n",
        ",\"AsianPerCap\"\r\n",
        ",\"OtherPerCap\"\r\n",
        ",\"HispPerCap\"\r\n",
        ",\"NumUnderPov\"\r\n",
        ",\"PctPopUnderPov\"\r\n",
        ",\"PctLess9thGrade\"\r\n",
        ",\"PctNotHSGrad\"\r\n",
        ",\"PctBSorMore\"\r\n",
        ",\"PctUnemployed\"\r\n",
        ",\"PctEmploy\"\r\n",
        ",\"PctEmplManu\"\r\n",
        ",\"PctEmplProfServ\"\r\n",
        ",\"PctOccupManu\"\r\n",
        ",\"PctOccupMgmtProf\"\r\n",
        ",\"MalePctDivorce\"\r\n",
        ",\"MalePctNevMarr\"\r\n",
        ",\"FemalePctDiv\"\r\n",
        ",\"TotalPctDiv\"\r\n",
        ",\"PersPerFam\"\r\n",
        ",\"PctFam2Par\"\r\n",
        ",\"PctKids2Par\"\r\n",
        ",\"PctYoungKids2Par\"\r\n",
        ",\"PctTeen2Par\"\r\n",
        ",\"PctWorkMomYoungKids\"\r\n",
        ",\"PctWorkMom\"\r\n",
        ",\"NumIlleg\"\r\n",
        ",\"PctIlleg\"\r\n",
        ",\"NumImmig\"\r\n",
        ",\"PctImmigRecent\"\r\n",
        ",\"PctImmigRec5\"\r\n",
        ",\"PctImmigRec8\"\r\n",
        ",\"PctImmigRec10\"\r\n",
        ",\"PctRecentImmig\"\r\n",
        ",\"PctRecImmig5\"\r\n",
        ",\"PctRecImmig8\"\r\n",
        ",\"PctRecImmig10\"\r\n",
        ",\"PctSpeakEnglOnly\"\r\n",
        ",\"PctNotSpeakEnglWell\"\r\n",
        ",\"PctLargHouseFam\"\r\n",
        ",\"PctLargHouseOccup\"\r\n",
        ",\"PersPerOccupHous\"\r\n",
        ",\"PersPerOwnOccHous\"\r\n",
        ",\"PersPerRentOccHous\"\r\n",
        ",\"PctPersOwnOccup\"\r\n",
        ",\"PctPersDenseHous\"\r\n",
        ",\"PctHousLess3BR\"\r\n",
        ",\"MedNumBR\"\r\n",
        ",\"HousVacant\"\r\n",
        ",\"PctHousOccup\"\r\n",
        ",\"PctHousOwnOcc\"\r\n",
        ",\"PctVacantBoarded\"\r\n",
        ",\"PctVacMore6Mos\"\r\n",
        ",\"MedYrHousBuilt\"\r\n",
        ",\"PctHousNoPhone\"\r\n",
        ",\"PctWOFullPlumb\"\r\n",
        ",\"OwnOccLowQuart\"\r\n",
        ",\"OwnOccMedVal\"\r\n",
        ",\"OwnOccHiQuart\"\r\n",
        ",\"RentLowQ\"\r\n",
        ",\"RentMedian\"\r\n",
        ",\"RentHighQ\"\r\n",
        ",\"MedRent\"\r\n",
        ",\"MedRentPctHousInc\"\r\n",
        ",\"MedOwnCostPctInc\"\r\n",
        ",\"MedOwnCostPctIncNoMtg\"\r\n",
        ",\"NumInShelters\"\r\n",
        ",\"NumStreet\"\r\n",
        ",\"PctForeignBorn\"\r\n",
        ",\"PctBornSameState\"\r\n",
        ",\"PctSameHouse85\"\r\n",
        ",\"PctSameCity85\"\r\n",
        ",\"PctSameState85\"\r\n",
        ",\"LemasSwornFT\"\r\n",
        ",\"LemasSwFTPerPop\"\r\n",
        ",\"LemasSwFTFieldOps\"\r\n",
        ",\"LemasSwFTFieldPerPop\"\r\n",
        ",\"LemasTotalReq\"\r\n",
        ",\"LemasTotReqPerPop\"\r\n",
        ",\"PolicReqPerOffic\"\r\n",
        ",\"PolicPerPop\"\r\n",
        ",\"RacialMatchCommPol\"\r\n",
        ",\"PctPolicWhite\"\r\n",
        ",\"PctPolicBlack\"\r\n",
        ",\"PctPolicHisp\"\r\n",
        ",\"PctPolicAsian\"\r\n",
        ",\"PctPolicMinor\"\r\n",
        ",\"OfficAssgnDrugUnits\"\r\n",
        ",\"NumKindsDrugsSeiz\"\r\n",
        ",\"PolicAveOTWorked\"\r\n",
        ",\"LandArea\"\r\n",
        ",\"PopDens\"\r\n",
        ",\"PctUsePubTrans\"\r\n",
        ",\"PolicCars\"\r\n",
        ",\"PolicOperBudg\"\r\n",
        ",\"LemasPctPolicOnPatr\"\r\n",
        ",\"LemasGangUnitDeploy\"\r\n",
        ",\"LemasPctOfficDrugUn\"\r\n",
        ",\"PolicBudgPerPop\"\r\n",
        ",\"ViolentCrimesPerPop\"]"
      ],
      "execution_count": 2,
      "outputs": []
    },
    {
      "cell_type": "code",
      "metadata": {
        "id": "SJm-7CX_DPMx"
      },
      "source": [
        "data=pd.read_csv('drive/My Drive/B07/communities.data',header=None,names=columns,na_values = [\"?\"])"
      ],
      "execution_count": 3,
      "outputs": []
    },
    {
      "cell_type": "code",
      "metadata": {
        "id": "dqzP8hxnDgHc",
        "colab": {
          "base_uri": "https://localhost:8080/",
          "height": 439
        },
        "outputId": "47ba3439-2415-4a26-9e31-bfad886da376"
      },
      "source": [
        "data"
      ],
      "execution_count": 4,
      "outputs": [
        {
          "output_type": "execute_result",
          "data": {
            "text/html": [
              "<div>\n",
              "<style scoped>\n",
              "    .dataframe tbody tr th:only-of-type {\n",
              "        vertical-align: middle;\n",
              "    }\n",
              "\n",
              "    .dataframe tbody tr th {\n",
              "        vertical-align: top;\n",
              "    }\n",
              "\n",
              "    .dataframe thead th {\n",
              "        text-align: right;\n",
              "    }\n",
              "</style>\n",
              "<table border=\"1\" class=\"dataframe\">\n",
              "  <thead>\n",
              "    <tr style=\"text-align: right;\">\n",
              "      <th></th>\n",
              "      <th>state</th>\n",
              "      <th>county</th>\n",
              "      <th>community</th>\n",
              "      <th>communityname</th>\n",
              "      <th>fold</th>\n",
              "      <th>population</th>\n",
              "      <th>householdsize</th>\n",
              "      <th>racepctblack</th>\n",
              "      <th>racePctWhite</th>\n",
              "      <th>racePctAsian</th>\n",
              "      <th>racePctHisp</th>\n",
              "      <th>agePct12t21</th>\n",
              "      <th>agePct12t29</th>\n",
              "      <th>agePct16t24</th>\n",
              "      <th>agePct65up</th>\n",
              "      <th>numbUrban</th>\n",
              "      <th>pctUrban</th>\n",
              "      <th>medIncome</th>\n",
              "      <th>pctWWage</th>\n",
              "      <th>pctWFarmSelf</th>\n",
              "      <th>pctWInvInc</th>\n",
              "      <th>pctWSocSec</th>\n",
              "      <th>pctWPubAsst</th>\n",
              "      <th>pctWRetire</th>\n",
              "      <th>medFamInc</th>\n",
              "      <th>perCapInc</th>\n",
              "      <th>whitePerCap</th>\n",
              "      <th>blackPerCap</th>\n",
              "      <th>indianPerCap</th>\n",
              "      <th>AsianPerCap</th>\n",
              "      <th>OtherPerCap</th>\n",
              "      <th>HispPerCap</th>\n",
              "      <th>NumUnderPov</th>\n",
              "      <th>PctPopUnderPov</th>\n",
              "      <th>PctLess9thGrade</th>\n",
              "      <th>PctNotHSGrad</th>\n",
              "      <th>PctBSorMore</th>\n",
              "      <th>PctUnemployed</th>\n",
              "      <th>PctEmploy</th>\n",
              "      <th>PctEmplManu</th>\n",
              "      <th>...</th>\n",
              "      <th>RentMedian</th>\n",
              "      <th>RentHighQ</th>\n",
              "      <th>MedRent</th>\n",
              "      <th>MedRentPctHousInc</th>\n",
              "      <th>MedOwnCostPctInc</th>\n",
              "      <th>MedOwnCostPctIncNoMtg</th>\n",
              "      <th>NumInShelters</th>\n",
              "      <th>NumStreet</th>\n",
              "      <th>PctForeignBorn</th>\n",
              "      <th>PctBornSameState</th>\n",
              "      <th>PctSameHouse85</th>\n",
              "      <th>PctSameCity85</th>\n",
              "      <th>PctSameState85</th>\n",
              "      <th>LemasSwornFT</th>\n",
              "      <th>LemasSwFTPerPop</th>\n",
              "      <th>LemasSwFTFieldOps</th>\n",
              "      <th>LemasSwFTFieldPerPop</th>\n",
              "      <th>LemasTotalReq</th>\n",
              "      <th>LemasTotReqPerPop</th>\n",
              "      <th>PolicReqPerOffic</th>\n",
              "      <th>PolicPerPop</th>\n",
              "      <th>RacialMatchCommPol</th>\n",
              "      <th>PctPolicWhite</th>\n",
              "      <th>PctPolicBlack</th>\n",
              "      <th>PctPolicHisp</th>\n",
              "      <th>PctPolicAsian</th>\n",
              "      <th>PctPolicMinor</th>\n",
              "      <th>OfficAssgnDrugUnits</th>\n",
              "      <th>NumKindsDrugsSeiz</th>\n",
              "      <th>PolicAveOTWorked</th>\n",
              "      <th>LandArea</th>\n",
              "      <th>PopDens</th>\n",
              "      <th>PctUsePubTrans</th>\n",
              "      <th>PolicCars</th>\n",
              "      <th>PolicOperBudg</th>\n",
              "      <th>LemasPctPolicOnPatr</th>\n",
              "      <th>LemasGangUnitDeploy</th>\n",
              "      <th>LemasPctOfficDrugUn</th>\n",
              "      <th>PolicBudgPerPop</th>\n",
              "      <th>ViolentCrimesPerPop</th>\n",
              "    </tr>\n",
              "  </thead>\n",
              "  <tbody>\n",
              "    <tr>\n",
              "      <th>0</th>\n",
              "      <td>8</td>\n",
              "      <td>NaN</td>\n",
              "      <td>NaN</td>\n",
              "      <td>Lakewoodcity</td>\n",
              "      <td>1</td>\n",
              "      <td>0.19</td>\n",
              "      <td>0.33</td>\n",
              "      <td>0.02</td>\n",
              "      <td>0.90</td>\n",
              "      <td>0.12</td>\n",
              "      <td>0.17</td>\n",
              "      <td>0.34</td>\n",
              "      <td>0.47</td>\n",
              "      <td>0.29</td>\n",
              "      <td>0.32</td>\n",
              "      <td>0.20</td>\n",
              "      <td>1.0</td>\n",
              "      <td>0.37</td>\n",
              "      <td>0.72</td>\n",
              "      <td>0.34</td>\n",
              "      <td>0.60</td>\n",
              "      <td>0.29</td>\n",
              "      <td>0.15</td>\n",
              "      <td>0.43</td>\n",
              "      <td>0.39</td>\n",
              "      <td>0.40</td>\n",
              "      <td>0.39</td>\n",
              "      <td>0.32</td>\n",
              "      <td>0.27</td>\n",
              "      <td>0.27</td>\n",
              "      <td>0.36</td>\n",
              "      <td>0.41</td>\n",
              "      <td>0.08</td>\n",
              "      <td>0.19</td>\n",
              "      <td>0.10</td>\n",
              "      <td>0.18</td>\n",
              "      <td>0.48</td>\n",
              "      <td>0.27</td>\n",
              "      <td>0.68</td>\n",
              "      <td>0.23</td>\n",
              "      <td>...</td>\n",
              "      <td>0.35</td>\n",
              "      <td>0.38</td>\n",
              "      <td>0.34</td>\n",
              "      <td>0.38</td>\n",
              "      <td>0.46</td>\n",
              "      <td>0.25</td>\n",
              "      <td>0.04</td>\n",
              "      <td>0.00</td>\n",
              "      <td>0.12</td>\n",
              "      <td>0.42</td>\n",
              "      <td>0.50</td>\n",
              "      <td>0.51</td>\n",
              "      <td>0.64</td>\n",
              "      <td>0.03</td>\n",
              "      <td>0.13</td>\n",
              "      <td>0.96</td>\n",
              "      <td>0.17</td>\n",
              "      <td>0.06</td>\n",
              "      <td>0.18</td>\n",
              "      <td>0.44</td>\n",
              "      <td>0.13</td>\n",
              "      <td>0.94</td>\n",
              "      <td>0.93</td>\n",
              "      <td>0.03</td>\n",
              "      <td>0.07</td>\n",
              "      <td>0.1</td>\n",
              "      <td>0.07</td>\n",
              "      <td>0.02</td>\n",
              "      <td>0.57</td>\n",
              "      <td>0.29</td>\n",
              "      <td>0.12</td>\n",
              "      <td>0.26</td>\n",
              "      <td>0.20</td>\n",
              "      <td>0.06</td>\n",
              "      <td>0.04</td>\n",
              "      <td>0.90</td>\n",
              "      <td>0.5</td>\n",
              "      <td>0.32</td>\n",
              "      <td>0.14</td>\n",
              "      <td>0.20</td>\n",
              "    </tr>\n",
              "    <tr>\n",
              "      <th>1</th>\n",
              "      <td>53</td>\n",
              "      <td>NaN</td>\n",
              "      <td>NaN</td>\n",
              "      <td>Tukwilacity</td>\n",
              "      <td>1</td>\n",
              "      <td>0.00</td>\n",
              "      <td>0.16</td>\n",
              "      <td>0.12</td>\n",
              "      <td>0.74</td>\n",
              "      <td>0.45</td>\n",
              "      <td>0.07</td>\n",
              "      <td>0.26</td>\n",
              "      <td>0.59</td>\n",
              "      <td>0.35</td>\n",
              "      <td>0.27</td>\n",
              "      <td>0.02</td>\n",
              "      <td>1.0</td>\n",
              "      <td>0.31</td>\n",
              "      <td>0.72</td>\n",
              "      <td>0.11</td>\n",
              "      <td>0.45</td>\n",
              "      <td>0.25</td>\n",
              "      <td>0.29</td>\n",
              "      <td>0.39</td>\n",
              "      <td>0.29</td>\n",
              "      <td>0.37</td>\n",
              "      <td>0.38</td>\n",
              "      <td>0.33</td>\n",
              "      <td>0.16</td>\n",
              "      <td>0.30</td>\n",
              "      <td>0.22</td>\n",
              "      <td>0.35</td>\n",
              "      <td>0.01</td>\n",
              "      <td>0.24</td>\n",
              "      <td>0.14</td>\n",
              "      <td>0.24</td>\n",
              "      <td>0.30</td>\n",
              "      <td>0.27</td>\n",
              "      <td>0.73</td>\n",
              "      <td>0.57</td>\n",
              "      <td>...</td>\n",
              "      <td>0.38</td>\n",
              "      <td>0.40</td>\n",
              "      <td>0.37</td>\n",
              "      <td>0.29</td>\n",
              "      <td>0.32</td>\n",
              "      <td>0.18</td>\n",
              "      <td>0.00</td>\n",
              "      <td>0.00</td>\n",
              "      <td>0.21</td>\n",
              "      <td>0.50</td>\n",
              "      <td>0.34</td>\n",
              "      <td>0.60</td>\n",
              "      <td>0.52</td>\n",
              "      <td>NaN</td>\n",
              "      <td>NaN</td>\n",
              "      <td>NaN</td>\n",
              "      <td>NaN</td>\n",
              "      <td>NaN</td>\n",
              "      <td>NaN</td>\n",
              "      <td>NaN</td>\n",
              "      <td>NaN</td>\n",
              "      <td>NaN</td>\n",
              "      <td>NaN</td>\n",
              "      <td>NaN</td>\n",
              "      <td>NaN</td>\n",
              "      <td>NaN</td>\n",
              "      <td>NaN</td>\n",
              "      <td>NaN</td>\n",
              "      <td>NaN</td>\n",
              "      <td>NaN</td>\n",
              "      <td>0.02</td>\n",
              "      <td>0.12</td>\n",
              "      <td>0.45</td>\n",
              "      <td>NaN</td>\n",
              "      <td>NaN</td>\n",
              "      <td>NaN</td>\n",
              "      <td>NaN</td>\n",
              "      <td>0.00</td>\n",
              "      <td>NaN</td>\n",
              "      <td>0.67</td>\n",
              "    </tr>\n",
              "    <tr>\n",
              "      <th>2</th>\n",
              "      <td>24</td>\n",
              "      <td>NaN</td>\n",
              "      <td>NaN</td>\n",
              "      <td>Aberdeentown</td>\n",
              "      <td>1</td>\n",
              "      <td>0.00</td>\n",
              "      <td>0.42</td>\n",
              "      <td>0.49</td>\n",
              "      <td>0.56</td>\n",
              "      <td>0.17</td>\n",
              "      <td>0.04</td>\n",
              "      <td>0.39</td>\n",
              "      <td>0.47</td>\n",
              "      <td>0.28</td>\n",
              "      <td>0.32</td>\n",
              "      <td>0.00</td>\n",
              "      <td>0.0</td>\n",
              "      <td>0.30</td>\n",
              "      <td>0.58</td>\n",
              "      <td>0.19</td>\n",
              "      <td>0.39</td>\n",
              "      <td>0.38</td>\n",
              "      <td>0.40</td>\n",
              "      <td>0.84</td>\n",
              "      <td>0.28</td>\n",
              "      <td>0.27</td>\n",
              "      <td>0.29</td>\n",
              "      <td>0.27</td>\n",
              "      <td>0.07</td>\n",
              "      <td>0.29</td>\n",
              "      <td>0.28</td>\n",
              "      <td>0.39</td>\n",
              "      <td>0.01</td>\n",
              "      <td>0.27</td>\n",
              "      <td>0.27</td>\n",
              "      <td>0.43</td>\n",
              "      <td>0.19</td>\n",
              "      <td>0.36</td>\n",
              "      <td>0.58</td>\n",
              "      <td>0.32</td>\n",
              "      <td>...</td>\n",
              "      <td>0.29</td>\n",
              "      <td>0.27</td>\n",
              "      <td>0.31</td>\n",
              "      <td>0.48</td>\n",
              "      <td>0.39</td>\n",
              "      <td>0.28</td>\n",
              "      <td>0.00</td>\n",
              "      <td>0.00</td>\n",
              "      <td>0.14</td>\n",
              "      <td>0.49</td>\n",
              "      <td>0.54</td>\n",
              "      <td>0.67</td>\n",
              "      <td>0.56</td>\n",
              "      <td>NaN</td>\n",
              "      <td>NaN</td>\n",
              "      <td>NaN</td>\n",
              "      <td>NaN</td>\n",
              "      <td>NaN</td>\n",
              "      <td>NaN</td>\n",
              "      <td>NaN</td>\n",
              "      <td>NaN</td>\n",
              "      <td>NaN</td>\n",
              "      <td>NaN</td>\n",
              "      <td>NaN</td>\n",
              "      <td>NaN</td>\n",
              "      <td>NaN</td>\n",
              "      <td>NaN</td>\n",
              "      <td>NaN</td>\n",
              "      <td>NaN</td>\n",
              "      <td>NaN</td>\n",
              "      <td>0.01</td>\n",
              "      <td>0.21</td>\n",
              "      <td>0.02</td>\n",
              "      <td>NaN</td>\n",
              "      <td>NaN</td>\n",
              "      <td>NaN</td>\n",
              "      <td>NaN</td>\n",
              "      <td>0.00</td>\n",
              "      <td>NaN</td>\n",
              "      <td>0.43</td>\n",
              "    </tr>\n",
              "    <tr>\n",
              "      <th>3</th>\n",
              "      <td>34</td>\n",
              "      <td>5.0</td>\n",
              "      <td>81440.0</td>\n",
              "      <td>Willingborotownship</td>\n",
              "      <td>1</td>\n",
              "      <td>0.04</td>\n",
              "      <td>0.77</td>\n",
              "      <td>1.00</td>\n",
              "      <td>0.08</td>\n",
              "      <td>0.12</td>\n",
              "      <td>0.10</td>\n",
              "      <td>0.51</td>\n",
              "      <td>0.50</td>\n",
              "      <td>0.34</td>\n",
              "      <td>0.21</td>\n",
              "      <td>0.06</td>\n",
              "      <td>1.0</td>\n",
              "      <td>0.58</td>\n",
              "      <td>0.89</td>\n",
              "      <td>0.21</td>\n",
              "      <td>0.43</td>\n",
              "      <td>0.36</td>\n",
              "      <td>0.20</td>\n",
              "      <td>0.82</td>\n",
              "      <td>0.51</td>\n",
              "      <td>0.36</td>\n",
              "      <td>0.40</td>\n",
              "      <td>0.39</td>\n",
              "      <td>0.16</td>\n",
              "      <td>0.25</td>\n",
              "      <td>0.36</td>\n",
              "      <td>0.44</td>\n",
              "      <td>0.01</td>\n",
              "      <td>0.10</td>\n",
              "      <td>0.09</td>\n",
              "      <td>0.25</td>\n",
              "      <td>0.31</td>\n",
              "      <td>0.33</td>\n",
              "      <td>0.71</td>\n",
              "      <td>0.36</td>\n",
              "      <td>...</td>\n",
              "      <td>0.70</td>\n",
              "      <td>0.77</td>\n",
              "      <td>0.89</td>\n",
              "      <td>0.63</td>\n",
              "      <td>0.51</td>\n",
              "      <td>0.47</td>\n",
              "      <td>0.00</td>\n",
              "      <td>0.00</td>\n",
              "      <td>0.19</td>\n",
              "      <td>0.30</td>\n",
              "      <td>0.73</td>\n",
              "      <td>0.64</td>\n",
              "      <td>0.65</td>\n",
              "      <td>NaN</td>\n",
              "      <td>NaN</td>\n",
              "      <td>NaN</td>\n",
              "      <td>NaN</td>\n",
              "      <td>NaN</td>\n",
              "      <td>NaN</td>\n",
              "      <td>NaN</td>\n",
              "      <td>NaN</td>\n",
              "      <td>NaN</td>\n",
              "      <td>NaN</td>\n",
              "      <td>NaN</td>\n",
              "      <td>NaN</td>\n",
              "      <td>NaN</td>\n",
              "      <td>NaN</td>\n",
              "      <td>NaN</td>\n",
              "      <td>NaN</td>\n",
              "      <td>NaN</td>\n",
              "      <td>0.02</td>\n",
              "      <td>0.39</td>\n",
              "      <td>0.28</td>\n",
              "      <td>NaN</td>\n",
              "      <td>NaN</td>\n",
              "      <td>NaN</td>\n",
              "      <td>NaN</td>\n",
              "      <td>0.00</td>\n",
              "      <td>NaN</td>\n",
              "      <td>0.12</td>\n",
              "    </tr>\n",
              "    <tr>\n",
              "      <th>4</th>\n",
              "      <td>42</td>\n",
              "      <td>95.0</td>\n",
              "      <td>6096.0</td>\n",
              "      <td>Bethlehemtownship</td>\n",
              "      <td>1</td>\n",
              "      <td>0.01</td>\n",
              "      <td>0.55</td>\n",
              "      <td>0.02</td>\n",
              "      <td>0.95</td>\n",
              "      <td>0.09</td>\n",
              "      <td>0.05</td>\n",
              "      <td>0.38</td>\n",
              "      <td>0.38</td>\n",
              "      <td>0.23</td>\n",
              "      <td>0.36</td>\n",
              "      <td>0.02</td>\n",
              "      <td>0.9</td>\n",
              "      <td>0.50</td>\n",
              "      <td>0.72</td>\n",
              "      <td>0.16</td>\n",
              "      <td>0.68</td>\n",
              "      <td>0.44</td>\n",
              "      <td>0.11</td>\n",
              "      <td>0.71</td>\n",
              "      <td>0.46</td>\n",
              "      <td>0.43</td>\n",
              "      <td>0.41</td>\n",
              "      <td>0.28</td>\n",
              "      <td>0.00</td>\n",
              "      <td>0.74</td>\n",
              "      <td>0.51</td>\n",
              "      <td>0.48</td>\n",
              "      <td>0.00</td>\n",
              "      <td>0.06</td>\n",
              "      <td>0.25</td>\n",
              "      <td>0.30</td>\n",
              "      <td>0.33</td>\n",
              "      <td>0.12</td>\n",
              "      <td>0.65</td>\n",
              "      <td>0.67</td>\n",
              "      <td>...</td>\n",
              "      <td>0.36</td>\n",
              "      <td>0.38</td>\n",
              "      <td>0.38</td>\n",
              "      <td>0.22</td>\n",
              "      <td>0.51</td>\n",
              "      <td>0.21</td>\n",
              "      <td>0.00</td>\n",
              "      <td>0.00</td>\n",
              "      <td>0.11</td>\n",
              "      <td>0.72</td>\n",
              "      <td>0.64</td>\n",
              "      <td>0.61</td>\n",
              "      <td>0.53</td>\n",
              "      <td>NaN</td>\n",
              "      <td>NaN</td>\n",
              "      <td>NaN</td>\n",
              "      <td>NaN</td>\n",
              "      <td>NaN</td>\n",
              "      <td>NaN</td>\n",
              "      <td>NaN</td>\n",
              "      <td>NaN</td>\n",
              "      <td>NaN</td>\n",
              "      <td>NaN</td>\n",
              "      <td>NaN</td>\n",
              "      <td>NaN</td>\n",
              "      <td>NaN</td>\n",
              "      <td>NaN</td>\n",
              "      <td>NaN</td>\n",
              "      <td>NaN</td>\n",
              "      <td>NaN</td>\n",
              "      <td>0.04</td>\n",
              "      <td>0.09</td>\n",
              "      <td>0.02</td>\n",
              "      <td>NaN</td>\n",
              "      <td>NaN</td>\n",
              "      <td>NaN</td>\n",
              "      <td>NaN</td>\n",
              "      <td>0.00</td>\n",
              "      <td>NaN</td>\n",
              "      <td>0.03</td>\n",
              "    </tr>\n",
              "    <tr>\n",
              "      <th>...</th>\n",
              "      <td>...</td>\n",
              "      <td>...</td>\n",
              "      <td>...</td>\n",
              "      <td>...</td>\n",
              "      <td>...</td>\n",
              "      <td>...</td>\n",
              "      <td>...</td>\n",
              "      <td>...</td>\n",
              "      <td>...</td>\n",
              "      <td>...</td>\n",
              "      <td>...</td>\n",
              "      <td>...</td>\n",
              "      <td>...</td>\n",
              "      <td>...</td>\n",
              "      <td>...</td>\n",
              "      <td>...</td>\n",
              "      <td>...</td>\n",
              "      <td>...</td>\n",
              "      <td>...</td>\n",
              "      <td>...</td>\n",
              "      <td>...</td>\n",
              "      <td>...</td>\n",
              "      <td>...</td>\n",
              "      <td>...</td>\n",
              "      <td>...</td>\n",
              "      <td>...</td>\n",
              "      <td>...</td>\n",
              "      <td>...</td>\n",
              "      <td>...</td>\n",
              "      <td>...</td>\n",
              "      <td>...</td>\n",
              "      <td>...</td>\n",
              "      <td>...</td>\n",
              "      <td>...</td>\n",
              "      <td>...</td>\n",
              "      <td>...</td>\n",
              "      <td>...</td>\n",
              "      <td>...</td>\n",
              "      <td>...</td>\n",
              "      <td>...</td>\n",
              "      <td>...</td>\n",
              "      <td>...</td>\n",
              "      <td>...</td>\n",
              "      <td>...</td>\n",
              "      <td>...</td>\n",
              "      <td>...</td>\n",
              "      <td>...</td>\n",
              "      <td>...</td>\n",
              "      <td>...</td>\n",
              "      <td>...</td>\n",
              "      <td>...</td>\n",
              "      <td>...</td>\n",
              "      <td>...</td>\n",
              "      <td>...</td>\n",
              "      <td>...</td>\n",
              "      <td>...</td>\n",
              "      <td>...</td>\n",
              "      <td>...</td>\n",
              "      <td>...</td>\n",
              "      <td>...</td>\n",
              "      <td>...</td>\n",
              "      <td>...</td>\n",
              "      <td>...</td>\n",
              "      <td>...</td>\n",
              "      <td>...</td>\n",
              "      <td>...</td>\n",
              "      <td>...</td>\n",
              "      <td>...</td>\n",
              "      <td>...</td>\n",
              "      <td>...</td>\n",
              "      <td>...</td>\n",
              "      <td>...</td>\n",
              "      <td>...</td>\n",
              "      <td>...</td>\n",
              "      <td>...</td>\n",
              "      <td>...</td>\n",
              "      <td>...</td>\n",
              "      <td>...</td>\n",
              "      <td>...</td>\n",
              "      <td>...</td>\n",
              "      <td>...</td>\n",
              "    </tr>\n",
              "    <tr>\n",
              "      <th>1989</th>\n",
              "      <td>12</td>\n",
              "      <td>NaN</td>\n",
              "      <td>NaN</td>\n",
              "      <td>TempleTerracecity</td>\n",
              "      <td>10</td>\n",
              "      <td>0.01</td>\n",
              "      <td>0.40</td>\n",
              "      <td>0.10</td>\n",
              "      <td>0.87</td>\n",
              "      <td>0.12</td>\n",
              "      <td>0.16</td>\n",
              "      <td>0.43</td>\n",
              "      <td>0.51</td>\n",
              "      <td>0.35</td>\n",
              "      <td>0.30</td>\n",
              "      <td>0.03</td>\n",
              "      <td>1.0</td>\n",
              "      <td>0.42</td>\n",
              "      <td>0.74</td>\n",
              "      <td>0.14</td>\n",
              "      <td>0.64</td>\n",
              "      <td>0.30</td>\n",
              "      <td>0.06</td>\n",
              "      <td>0.46</td>\n",
              "      <td>0.41</td>\n",
              "      <td>0.49</td>\n",
              "      <td>0.50</td>\n",
              "      <td>0.27</td>\n",
              "      <td>0.00</td>\n",
              "      <td>0.16</td>\n",
              "      <td>0.36</td>\n",
              "      <td>0.52</td>\n",
              "      <td>0.01</td>\n",
              "      <td>0.16</td>\n",
              "      <td>0.08</td>\n",
              "      <td>0.11</td>\n",
              "      <td>0.65</td>\n",
              "      <td>0.12</td>\n",
              "      <td>0.71</td>\n",
              "      <td>0.17</td>\n",
              "      <td>...</td>\n",
              "      <td>0.39</td>\n",
              "      <td>0.41</td>\n",
              "      <td>0.41</td>\n",
              "      <td>0.50</td>\n",
              "      <td>0.48</td>\n",
              "      <td>0.39</td>\n",
              "      <td>0.00</td>\n",
              "      <td>0.00</td>\n",
              "      <td>0.22</td>\n",
              "      <td>0.28</td>\n",
              "      <td>0.34</td>\n",
              "      <td>0.48</td>\n",
              "      <td>0.39</td>\n",
              "      <td>NaN</td>\n",
              "      <td>NaN</td>\n",
              "      <td>NaN</td>\n",
              "      <td>NaN</td>\n",
              "      <td>NaN</td>\n",
              "      <td>NaN</td>\n",
              "      <td>NaN</td>\n",
              "      <td>NaN</td>\n",
              "      <td>NaN</td>\n",
              "      <td>NaN</td>\n",
              "      <td>NaN</td>\n",
              "      <td>NaN</td>\n",
              "      <td>NaN</td>\n",
              "      <td>NaN</td>\n",
              "      <td>NaN</td>\n",
              "      <td>NaN</td>\n",
              "      <td>NaN</td>\n",
              "      <td>0.01</td>\n",
              "      <td>0.28</td>\n",
              "      <td>0.05</td>\n",
              "      <td>NaN</td>\n",
              "      <td>NaN</td>\n",
              "      <td>NaN</td>\n",
              "      <td>NaN</td>\n",
              "      <td>0.00</td>\n",
              "      <td>NaN</td>\n",
              "      <td>0.09</td>\n",
              "    </tr>\n",
              "    <tr>\n",
              "      <th>1990</th>\n",
              "      <td>6</td>\n",
              "      <td>NaN</td>\n",
              "      <td>NaN</td>\n",
              "      <td>Seasidecity</td>\n",
              "      <td>10</td>\n",
              "      <td>0.05</td>\n",
              "      <td>0.96</td>\n",
              "      <td>0.46</td>\n",
              "      <td>0.28</td>\n",
              "      <td>0.83</td>\n",
              "      <td>0.32</td>\n",
              "      <td>0.69</td>\n",
              "      <td>0.86</td>\n",
              "      <td>0.73</td>\n",
              "      <td>0.14</td>\n",
              "      <td>0.06</td>\n",
              "      <td>1.0</td>\n",
              "      <td>0.28</td>\n",
              "      <td>0.76</td>\n",
              "      <td>0.10</td>\n",
              "      <td>0.30</td>\n",
              "      <td>0.26</td>\n",
              "      <td>0.37</td>\n",
              "      <td>0.48</td>\n",
              "      <td>0.24</td>\n",
              "      <td>0.18</td>\n",
              "      <td>0.20</td>\n",
              "      <td>0.26</td>\n",
              "      <td>0.18</td>\n",
              "      <td>0.20</td>\n",
              "      <td>0.23</td>\n",
              "      <td>0.26</td>\n",
              "      <td>0.04</td>\n",
              "      <td>0.32</td>\n",
              "      <td>0.33</td>\n",
              "      <td>0.37</td>\n",
              "      <td>0.22</td>\n",
              "      <td>0.24</td>\n",
              "      <td>0.77</td>\n",
              "      <td>0.10</td>\n",
              "      <td>...</td>\n",
              "      <td>0.54</td>\n",
              "      <td>0.61</td>\n",
              "      <td>0.54</td>\n",
              "      <td>0.69</td>\n",
              "      <td>0.67</td>\n",
              "      <td>0.31</td>\n",
              "      <td>0.01</td>\n",
              "      <td>0.00</td>\n",
              "      <td>0.53</td>\n",
              "      <td>0.25</td>\n",
              "      <td>0.17</td>\n",
              "      <td>0.10</td>\n",
              "      <td>0.00</td>\n",
              "      <td>NaN</td>\n",
              "      <td>NaN</td>\n",
              "      <td>NaN</td>\n",
              "      <td>NaN</td>\n",
              "      <td>NaN</td>\n",
              "      <td>NaN</td>\n",
              "      <td>NaN</td>\n",
              "      <td>NaN</td>\n",
              "      <td>NaN</td>\n",
              "      <td>NaN</td>\n",
              "      <td>NaN</td>\n",
              "      <td>NaN</td>\n",
              "      <td>NaN</td>\n",
              "      <td>NaN</td>\n",
              "      <td>NaN</td>\n",
              "      <td>NaN</td>\n",
              "      <td>NaN</td>\n",
              "      <td>0.02</td>\n",
              "      <td>0.37</td>\n",
              "      <td>0.20</td>\n",
              "      <td>NaN</td>\n",
              "      <td>NaN</td>\n",
              "      <td>NaN</td>\n",
              "      <td>NaN</td>\n",
              "      <td>0.00</td>\n",
              "      <td>NaN</td>\n",
              "      <td>0.45</td>\n",
              "    </tr>\n",
              "    <tr>\n",
              "      <th>1991</th>\n",
              "      <td>9</td>\n",
              "      <td>9.0</td>\n",
              "      <td>80070.0</td>\n",
              "      <td>Waterburytown</td>\n",
              "      <td>10</td>\n",
              "      <td>0.16</td>\n",
              "      <td>0.37</td>\n",
              "      <td>0.25</td>\n",
              "      <td>0.69</td>\n",
              "      <td>0.04</td>\n",
              "      <td>0.25</td>\n",
              "      <td>0.35</td>\n",
              "      <td>0.50</td>\n",
              "      <td>0.31</td>\n",
              "      <td>0.54</td>\n",
              "      <td>0.17</td>\n",
              "      <td>1.0</td>\n",
              "      <td>0.31</td>\n",
              "      <td>0.47</td>\n",
              "      <td>0.17</td>\n",
              "      <td>0.45</td>\n",
              "      <td>0.58</td>\n",
              "      <td>0.48</td>\n",
              "      <td>0.57</td>\n",
              "      <td>0.35</td>\n",
              "      <td>0.31</td>\n",
              "      <td>0.34</td>\n",
              "      <td>0.25</td>\n",
              "      <td>0.19</td>\n",
              "      <td>0.28</td>\n",
              "      <td>0.22</td>\n",
              "      <td>0.28</td>\n",
              "      <td>0.12</td>\n",
              "      <td>0.31</td>\n",
              "      <td>0.52</td>\n",
              "      <td>0.58</td>\n",
              "      <td>0.21</td>\n",
              "      <td>0.50</td>\n",
              "      <td>0.46</td>\n",
              "      <td>0.63</td>\n",
              "      <td>...</td>\n",
              "      <td>0.34</td>\n",
              "      <td>0.39</td>\n",
              "      <td>0.37</td>\n",
              "      <td>0.52</td>\n",
              "      <td>0.58</td>\n",
              "      <td>0.53</td>\n",
              "      <td>0.06</td>\n",
              "      <td>0.02</td>\n",
              "      <td>0.25</td>\n",
              "      <td>0.68</td>\n",
              "      <td>0.61</td>\n",
              "      <td>0.79</td>\n",
              "      <td>0.76</td>\n",
              "      <td>0.06</td>\n",
              "      <td>0.30</td>\n",
              "      <td>0.93</td>\n",
              "      <td>0.36</td>\n",
              "      <td>0.04</td>\n",
              "      <td>0.17</td>\n",
              "      <td>0.19</td>\n",
              "      <td>0.30</td>\n",
              "      <td>0.97</td>\n",
              "      <td>0.70</td>\n",
              "      <td>0.15</td>\n",
              "      <td>0.34</td>\n",
              "      <td>0.0</td>\n",
              "      <td>0.34</td>\n",
              "      <td>0.10</td>\n",
              "      <td>0.36</td>\n",
              "      <td>0.25</td>\n",
              "      <td>0.08</td>\n",
              "      <td>0.32</td>\n",
              "      <td>0.18</td>\n",
              "      <td>0.08</td>\n",
              "      <td>0.06</td>\n",
              "      <td>0.78</td>\n",
              "      <td>0.0</td>\n",
              "      <td>0.91</td>\n",
              "      <td>0.28</td>\n",
              "      <td>0.23</td>\n",
              "    </tr>\n",
              "    <tr>\n",
              "      <th>1992</th>\n",
              "      <td>25</td>\n",
              "      <td>17.0</td>\n",
              "      <td>72600.0</td>\n",
              "      <td>Walthamcity</td>\n",
              "      <td>10</td>\n",
              "      <td>0.08</td>\n",
              "      <td>0.51</td>\n",
              "      <td>0.06</td>\n",
              "      <td>0.87</td>\n",
              "      <td>0.22</td>\n",
              "      <td>0.10</td>\n",
              "      <td>0.58</td>\n",
              "      <td>0.74</td>\n",
              "      <td>0.63</td>\n",
              "      <td>0.41</td>\n",
              "      <td>0.09</td>\n",
              "      <td>1.0</td>\n",
              "      <td>0.44</td>\n",
              "      <td>0.64</td>\n",
              "      <td>0.21</td>\n",
              "      <td>0.55</td>\n",
              "      <td>0.42</td>\n",
              "      <td>0.24</td>\n",
              "      <td>0.45</td>\n",
              "      <td>0.47</td>\n",
              "      <td>0.40</td>\n",
              "      <td>0.40</td>\n",
              "      <td>0.29</td>\n",
              "      <td>0.20</td>\n",
              "      <td>0.31</td>\n",
              "      <td>0.27</td>\n",
              "      <td>0.37</td>\n",
              "      <td>0.03</td>\n",
              "      <td>0.16</td>\n",
              "      <td>0.30</td>\n",
              "      <td>0.35</td>\n",
              "      <td>0.42</td>\n",
              "      <td>0.37</td>\n",
              "      <td>0.57</td>\n",
              "      <td>0.44</td>\n",
              "      <td>...</td>\n",
              "      <td>0.62</td>\n",
              "      <td>0.75</td>\n",
              "      <td>0.64</td>\n",
              "      <td>0.43</td>\n",
              "      <td>0.44</td>\n",
              "      <td>0.40</td>\n",
              "      <td>0.04</td>\n",
              "      <td>0.01</td>\n",
              "      <td>0.45</td>\n",
              "      <td>0.64</td>\n",
              "      <td>0.54</td>\n",
              "      <td>0.59</td>\n",
              "      <td>0.52</td>\n",
              "      <td>0.02</td>\n",
              "      <td>0.25</td>\n",
              "      <td>0.97</td>\n",
              "      <td>0.30</td>\n",
              "      <td>0.01</td>\n",
              "      <td>0.11</td>\n",
              "      <td>0.14</td>\n",
              "      <td>0.25</td>\n",
              "      <td>0.91</td>\n",
              "      <td>0.91</td>\n",
              "      <td>0.11</td>\n",
              "      <td>0.04</td>\n",
              "      <td>0.0</td>\n",
              "      <td>0.09</td>\n",
              "      <td>0.01</td>\n",
              "      <td>0.57</td>\n",
              "      <td>0.19</td>\n",
              "      <td>0.03</td>\n",
              "      <td>0.38</td>\n",
              "      <td>0.33</td>\n",
              "      <td>0.02</td>\n",
              "      <td>0.02</td>\n",
              "      <td>0.79</td>\n",
              "      <td>0.0</td>\n",
              "      <td>0.22</td>\n",
              "      <td>0.18</td>\n",
              "      <td>0.19</td>\n",
              "    </tr>\n",
              "    <tr>\n",
              "      <th>1993</th>\n",
              "      <td>6</td>\n",
              "      <td>NaN</td>\n",
              "      <td>NaN</td>\n",
              "      <td>Ontariocity</td>\n",
              "      <td>10</td>\n",
              "      <td>0.20</td>\n",
              "      <td>0.78</td>\n",
              "      <td>0.14</td>\n",
              "      <td>0.46</td>\n",
              "      <td>0.24</td>\n",
              "      <td>0.77</td>\n",
              "      <td>0.50</td>\n",
              "      <td>0.62</td>\n",
              "      <td>0.40</td>\n",
              "      <td>0.17</td>\n",
              "      <td>0.21</td>\n",
              "      <td>1.0</td>\n",
              "      <td>0.40</td>\n",
              "      <td>0.73</td>\n",
              "      <td>0.22</td>\n",
              "      <td>0.25</td>\n",
              "      <td>0.26</td>\n",
              "      <td>0.47</td>\n",
              "      <td>0.29</td>\n",
              "      <td>0.36</td>\n",
              "      <td>0.24</td>\n",
              "      <td>0.28</td>\n",
              "      <td>0.32</td>\n",
              "      <td>0.22</td>\n",
              "      <td>0.27</td>\n",
              "      <td>0.25</td>\n",
              "      <td>0.29</td>\n",
              "      <td>0.16</td>\n",
              "      <td>0.35</td>\n",
              "      <td>0.50</td>\n",
              "      <td>0.55</td>\n",
              "      <td>0.16</td>\n",
              "      <td>0.47</td>\n",
              "      <td>0.58</td>\n",
              "      <td>0.53</td>\n",
              "      <td>...</td>\n",
              "      <td>0.53</td>\n",
              "      <td>0.61</td>\n",
              "      <td>0.54</td>\n",
              "      <td>0.69</td>\n",
              "      <td>0.73</td>\n",
              "      <td>0.21</td>\n",
              "      <td>0.08</td>\n",
              "      <td>0.08</td>\n",
              "      <td>0.68</td>\n",
              "      <td>0.50</td>\n",
              "      <td>0.34</td>\n",
              "      <td>0.35</td>\n",
              "      <td>0.68</td>\n",
              "      <td>0.03</td>\n",
              "      <td>0.11</td>\n",
              "      <td>0.96</td>\n",
              "      <td>0.14</td>\n",
              "      <td>0.04</td>\n",
              "      <td>0.11</td>\n",
              "      <td>0.30</td>\n",
              "      <td>0.11</td>\n",
              "      <td>0.45</td>\n",
              "      <td>0.74</td>\n",
              "      <td>0.34</td>\n",
              "      <td>0.07</td>\n",
              "      <td>0.0</td>\n",
              "      <td>0.28</td>\n",
              "      <td>0.07</td>\n",
              "      <td>0.36</td>\n",
              "      <td>0.11</td>\n",
              "      <td>0.11</td>\n",
              "      <td>0.30</td>\n",
              "      <td>0.05</td>\n",
              "      <td>0.08</td>\n",
              "      <td>0.04</td>\n",
              "      <td>0.73</td>\n",
              "      <td>0.5</td>\n",
              "      <td>1.00</td>\n",
              "      <td>0.13</td>\n",
              "      <td>0.48</td>\n",
              "    </tr>\n",
              "  </tbody>\n",
              "</table>\n",
              "<p>1994 rows × 128 columns</p>\n",
              "</div>"
            ],
            "text/plain": [
              "      state  county  ...  PolicBudgPerPop ViolentCrimesPerPop\n",
              "0         8     NaN  ...             0.14                0.20\n",
              "1        53     NaN  ...              NaN                0.67\n",
              "2        24     NaN  ...              NaN                0.43\n",
              "3        34     5.0  ...              NaN                0.12\n",
              "4        42    95.0  ...              NaN                0.03\n",
              "...     ...     ...  ...              ...                 ...\n",
              "1989     12     NaN  ...              NaN                0.09\n",
              "1990      6     NaN  ...              NaN                0.45\n",
              "1991      9     9.0  ...             0.28                0.23\n",
              "1992     25    17.0  ...             0.18                0.19\n",
              "1993      6     NaN  ...             0.13                0.48\n",
              "\n",
              "[1994 rows x 128 columns]"
            ]
          },
          "metadata": {
            "tags": []
          },
          "execution_count": 4
        }
      ]
    },
    {
      "cell_type": "markdown",
      "metadata": {
        "id": "6F7eoYOeFS-i"
      },
      "source": [
        "### Σύντομη παρουσίαση του dataset (τι περιγράφει).\r\n"
      ]
    },
    {
      "cell_type": "markdown",
      "metadata": {
        "id": "AQSSK_YzIJjR"
      },
      "source": [
        "To dataset μας περιέχει :\r\n",
        "\r\n",
        "\r\n",
        "\r\n",
        "*   Κοινωνικά\r\n",
        "*   Πολιτικα\r\n",
        "*   Κτηματολογικα\r\n",
        "*   Δημογραφικά\r\n",
        "\r\n",
        "δεδομένα, που αφορούν συγκεκριμένες κοινότητες στις Ηνωμένες Πολιτείες της Αμερικής. Ορισμένα παραδείγματα χαρακτηριστικών είναι τα εξής :\r\n",
        "\r\n",
        "\r\n",
        "\r\n",
        "*   Ποσοστό πληθυσμού που είναι 16-24 \r\n",
        "*   Κατα κεφαλην εισόδημα κατοίκων με ισπανική καταγωγή\r\n",
        "*   Ποσοστό ανδρών με διαζύγιο\r\n",
        "*   Πλήθος κατοίκων που μένουν σε καταφύγιο αστέγων\r\n",
        "*   Μέση ηλικία κτηρίων στην περιοχή\r\n",
        "*   Πλήθος αστυνομικών αυτοκινήτων.\r\n",
        "\r\n",
        "Ο στόχος και η πρόκληση του συγκεκριμένου dataset είναι να προβλέψουμε το πλήθος των εγκληματικών ενεργειών ανα 100Κ πληθυσμού."
      ]
    },
    {
      "cell_type": "markdown",
      "metadata": {
        "id": "6ZD58deWFWuK"
      },
      "source": [
        "### Αριθμός δειγμάτων και χαρακτηριστικών, είδος χαρακτηριστικών. Υπάρχουν μη διατεταγμένα χαρακτηριστικά και ποια είναι αυτά;"
      ]
    },
    {
      "cell_type": "code",
      "metadata": {
        "colab": {
          "base_uri": "https://localhost:8080/"
        },
        "id": "brs4NjbcLFmM",
        "outputId": "82e93a02-9d1b-412e-84c3-e681d6359c2b"
      },
      "source": [
        "print(\"Αρχικός Αριθμός δειγμάτων:\",data.shape[0])\r\n",
        "print(\"Αρχικός Αριθμός χαρακτηριστικών:\",data.shape[1])"
      ],
      "execution_count": 5,
      "outputs": [
        {
          "output_type": "stream",
          "text": [
            "Αρχικός Αριθμός δειγμάτων: 1994\n",
            "Αρχικός Αριθμός χαρακτηριστικών: 128\n"
          ],
          "name": "stdout"
        }
      ]
    },
    {
      "cell_type": "markdown",
      "metadata": {
        "id": "3KSerPkEOcfG"
      },
      "source": [
        "Συμφωνα με τα χαρακτηριστικά του dataset έχω :\r\n",
        "\r\n",
        "\r\n",
        "\r\n",
        "*   122 predictive attributes, τα οποία είναι όλα διατεταγμένες αριθμητικές τιμές και θα μας βοηθήσουν στην εκαίδευση του μοντέλου.\r\n",
        "*   5 non-predictive attributes, τα οποία θα αφαιρεθούν\r\n",
        "*   1 goal attribute το οποίο είναι διατεταγμένη και αριθμητική τιμή."
      ]
    },
    {
      "cell_type": "markdown",
      "metadata": {
        "id": "F-tJnZ4BFb0k"
      },
      "source": [
        "### Υπάρχουν επικεφαλίδες; Αρίθμηση γραμμών;"
      ]
    },
    {
      "cell_type": "markdown",
      "metadata": {
        "id": "l3AlczKVQwW4"
      },
      "source": [
        " Χρειάστηκε να εισάγουμε χειροκίνητα τις επικεφαλίδες, φυσικά μέσα απο το site του dataset μας και να το τροποποιήσουμε κατάλληλα για να μπορεί να προσαρμοστεί στο dataframe μας. Συνεπώς, εν τέλη εχουμε επικεφαλίδες και αριθμήση γραμμών."
      ]
    },
    {
      "cell_type": "markdown",
      "metadata": {
        "id": "K9uq81heFeNc"
      },
      "source": [
        "### Ποια / ποιες είναι οι κολόνες με τις μεταβλητές - στόχους;"
      ]
    },
    {
      "cell_type": "markdown",
      "metadata": {
        "id": "XEz4VF83RSAE"
      },
      "source": [
        "Έχουμε μια κολόνα με μεταβλητή στόχο και αυτή είναι η **ViolentCrimesPerPop**."
      ]
    },
    {
      "cell_type": "markdown",
      "metadata": {
        "id": "Fjej1GfKFj2o"
      },
      "source": [
        "### Χρειάστηκε να κάνετε μετατροπές στα αρχεία text και ποιες?\r\n"
      ]
    },
    {
      "cell_type": "markdown",
      "metadata": {
        "id": "kS1NDD8-SDJ5"
      },
      "source": [
        "H μετατροπή που κάναμε στο αρχείο text μας αφορά τις απουσιάζουσες τιμές, οι οποίες εμφανίζονται ως \"?\" στο αρχικό αρχείο ενώ εμείς τις διαβάσαμε ως NaN.\r\n",
        "\r\n",
        "Τέλος όπως αναφέραμε, κατασκευάσαμε χειροκίνητα την λίστα με τα χαρακτηριστικά.\r\n",
        "\r\n",
        "Φυσικά θα ακολουθήσουν και άλλες ενέργειες που θα αφορούν την επεξεργασία αλλά και την μετατροπή των δεδομένων μας με σκοπό την καλύτερη εκπαίδευση των αλγορίθμων μας. Οι ενέργειες αυτές θα αναφερθούν παρακάτω μαζι με την υλοποίηση τους."
      ]
    },
    {
      "cell_type": "markdown",
      "metadata": {
        "id": "ZlSYhJgqFlil"
      },
      "source": [
        "### Υπάρχουν απουσιάζουσες τιμές; Πόσα είναι τα δείγματα με απουσιάζουσες τιμές και ποιο το ποσοστό τους επί του συνόλου; \r\n"
      ]
    },
    {
      "cell_type": "markdown",
      "metadata": {
        "id": "d_VHUoFEVqXU"
      },
      "source": [
        "Στο σημείο αυτό θα διαγράψουμε τις 5 στήλες χαρακτηριστικών που δεν θα χρειαστούμε και δεν δίνουν κάποια πληροφορία για να υπολογίσουμε τις απουσιάζουσες τιμές που όντως θα μας απασχολήσουν."
      ]
    },
    {
      "cell_type": "code",
      "metadata": {
        "id": "D2MqOzWWV-FG"
      },
      "source": [
        "data = data.drop(data.columns[[0, 1, 2, 3, 4]], axis=1)"
      ],
      "execution_count": 6,
      "outputs": []
    },
    {
      "cell_type": "code",
      "metadata": {
        "colab": {
          "base_uri": "https://localhost:8080/"
        },
        "id": "QoVFvXTVmOQl",
        "outputId": "914f1080-7b73-4b87-c437-9fa1cfc6f4f4"
      },
      "source": [
        "null_columns=data.columns[data.isnull().any()]\r\n",
        "null_values=data[null_columns].isnull().sum()\r\n",
        "null_values"
      ],
      "execution_count": 7,
      "outputs": [
        {
          "output_type": "execute_result",
          "data": {
            "text/plain": [
              "OtherPerCap                1\n",
              "LemasSwornFT            1675\n",
              "LemasSwFTPerPop         1675\n",
              "LemasSwFTFieldOps       1675\n",
              "LemasSwFTFieldPerPop    1675\n",
              "LemasTotalReq           1675\n",
              "LemasTotReqPerPop       1675\n",
              "PolicReqPerOffic        1675\n",
              "PolicPerPop             1675\n",
              "RacialMatchCommPol      1675\n",
              "PctPolicWhite           1675\n",
              "PctPolicBlack           1675\n",
              "PctPolicHisp            1675\n",
              "PctPolicAsian           1675\n",
              "PctPolicMinor           1675\n",
              "OfficAssgnDrugUnits     1675\n",
              "NumKindsDrugsSeiz       1675\n",
              "PolicAveOTWorked        1675\n",
              "PolicCars               1675\n",
              "PolicOperBudg           1675\n",
              "LemasPctPolicOnPatr     1675\n",
              "LemasGangUnitDeploy     1675\n",
              "PolicBudgPerPop         1675\n",
              "dtype: int64"
            ]
          },
          "metadata": {
            "tags": []
          },
          "execution_count": 7
        }
      ]
    },
    {
      "cell_type": "code",
      "metadata": {
        "colab": {
          "base_uri": "https://localhost:8080/"
        },
        "id": "wHDkR38gr8-3",
        "outputId": "ea5b98cc-b25e-444f-996f-dff348d83585"
      },
      "source": [
        "sum=0\r\n",
        "for i in range(len(null_values)):\r\n",
        "  sum=sum+null_values[i]\r\n",
        "\r\n",
        "print(\"Συνολικές Απουσιάζουσες Τιμές:\",sum)\r\n",
        "print(\"Ποσοστό Συνολικών Απουσιάζουσων Τιμών:\",100*sum/(1994*128),\"%\")\r\n",
        "print(\"Ποσοστό Απουσιάζουσων Τιμών στις <<Αδύναμες>> Στήλες:\",100*1675/1994,\"%\")"
      ],
      "execution_count": 8,
      "outputs": [
        {
          "output_type": "stream",
          "text": [
            "Συνολικές Απουσιάζουσες Τιμές: 36851\n",
            "Ποσοστό Συνολικών Απουσιάζουσων Τιμών: 14.438236584754263 %\n",
            "Ποσοστό Απουσιάζουσων Τιμών στις <<Αδύναμες>> Στήλες: 84.00200601805416 %\n"
          ],
          "name": "stdout"
        }
      ]
    },
    {
      "cell_type": "code",
      "metadata": {
        "colab": {
          "base_uri": "https://localhost:8080/"
        },
        "id": "XG5YtaTYnB9h",
        "outputId": "dfa37195-aa88-42fe-e517-41032acbf920"
      },
      "source": [
        "l1=data[data['LemasSwornFT'].isnull()].index.tolist()\r\n",
        "All_same=True\r\n",
        "for attr in null_columns[1::]:\r\n",
        "  l2=data[data[attr].isnull()].index.tolist()\r\n",
        "  dif=list(set(l1) - set(l2))\r\n",
        "  if dif:\r\n",
        "    All_same=False\r\n",
        "  \r\n",
        "if (All_same): print(\"Τα ίδια indeces στις <<Αδύναμες>> Στήλες\")\r\n",
        "else: print(\"Διαφορετικά indeces στις <<Αδύναμες>> Στήλες\")"
      ],
      "execution_count": 9,
      "outputs": [
        {
          "output_type": "stream",
          "text": [
            "Τα ίδια indeces στις <<Αδύναμες>> Στήλες\n"
          ],
          "name": "stdout"
        }
      ]
    },
    {
      "cell_type": "markdown",
      "metadata": {
        "id": "M6SgpMEvw7EM"
      },
      "source": [
        "Βλέπουμε ότι έχουμε ένα υποσύνολο στηλών που για τα ίδια indeces έχουν απουσιάζουσες τιμές σε ποσοστό 84%. Ο τρόπος να το αντιμετωπίσουμε αυτο το συμβάν είναι να τις αφαιρέσουμε. Όπως επίσης θα αντικαταστήσουμε την μονδική απουσιάζουσα τιμή του OtherPerCap με το mean , μέσω ενός imputer. Όμως η ενέργεια αυτή πρέπει να πραγματοποιηθεί μετα το train-test split για να μην εισάγουμε πληροφορία στο test set."
      ]
    },
    {
      "cell_type": "code",
      "metadata": {
        "colab": {
          "base_uri": "https://localhost:8080/"
        },
        "id": "OwjmphpR47pq",
        "outputId": "09767074-4b78-45de-a5bf-89412533b6da"
      },
      "source": [
        "data = data.drop(columns=null_columns[1::])\r\n",
        "print(data.shape[0])\r\n",
        "print(data.shape[1])"
      ],
      "execution_count": 10,
      "outputs": [
        {
          "output_type": "stream",
          "text": [
            "1994\n",
            "101\n"
          ],
          "name": "stdout"
        }
      ]
    },
    {
      "cell_type": "markdown",
      "metadata": {
        "id": "HyRJvmg0FouM"
      },
      "source": [
        "### Διαχωρίστε σε train και test set. Εάν υπάρχουν απουσιάζουσες τιμές και μη διατεταγμένα χαρακτηριστικά διαχειριστείτε τα και αιτιολογήστε τις επιλογές σας."
      ]
    },
    {
      "cell_type": "markdown",
      "metadata": {
        "id": "QlJVBhWKLZ3I"
      },
      "source": [
        "Αναφέρουμε στην προηγούμενη ερώτηση πως αντιμετωπίσαμε τις απουσιάζουσες τιμές. Στο στάδιο αυτό θα διαχωρίσουμε σε train-test set και θα εφαρμόσουμε τον imputer."
      ]
    },
    {
      "cell_type": "code",
      "metadata": {
        "id": "d3X1rtuyLvbQ"
      },
      "source": [
        "X = data.iloc[:, 0:100]\r\n",
        "y = data.iloc[:, 100]\r\n",
        "\r\n",
        "seed = 31\r\n",
        "\r\n",
        "X_train, X_test, y_train, y_test = train_test_split(X, y, test_size = 0.2, random_state = seed)"
      ],
      "execution_count": 11,
      "outputs": []
    },
    {
      "cell_type": "code",
      "metadata": {
        "colab": {
          "base_uri": "https://localhost:8080/"
        },
        "id": "jApVk1QoM-sk",
        "outputId": "47623feb-a24b-4dce-dcd5-6414b37e262d"
      },
      "source": [
        "null_columns1=X_train.columns[X_train.isnull().any()]\r\n",
        "null_columns1"
      ],
      "execution_count": 12,
      "outputs": [
        {
          "output_type": "execute_result",
          "data": {
            "text/plain": [
              "Index(['OtherPerCap'], dtype='object')"
            ]
          },
          "metadata": {
            "tags": []
          },
          "execution_count": 12
        }
      ]
    },
    {
      "cell_type": "markdown",
      "metadata": {
        "id": "jfCvWYIAUzw0"
      },
      "source": [
        "Η απουσιάζουσα τιμή εμφανίζεται στο train set"
      ]
    },
    {
      "cell_type": "code",
      "metadata": {
        "id": "jQCiE4X7a8H2"
      },
      "source": [
        "imp = SimpleImputer(missing_values=np.nan, strategy='mean')\r\n",
        "imputer = imp.fit(X_train[['OtherPerCap']])\r\n",
        "X_train[['OtherPerCap']] = imputer.transform(X_train[['OtherPerCap']])"
      ],
      "execution_count": 13,
      "outputs": []
    },
    {
      "cell_type": "markdown",
      "metadata": {
        "id": "Dx4Fmgg_gDXW"
      },
      "source": [
        "Έχοντας πλεον τελειώσει το πρώτο στάδιο ανάγνωσης και επεξεργασίας τηων δεδομένων μας, θα συνεχίσουμε με παραπάνω μετατροπές και εξαγωγές χαρακτηριστικών."
      ]
    },
    {
      "cell_type": "markdown",
      "metadata": {
        "id": "1KSbgJJHKPPb"
      },
      "source": [
        "# Επεξεργασία Δεδομένων και Εξαγωγή Χαρακτηριστικών"
      ]
    },
    {
      "cell_type": "markdown",
      "metadata": {
        "id": "Cj1D3IIJc8XF"
      },
      "source": [
        "Αρχικά παρατηρούμε ότι έχουμε 100 attributes, έναν αρκετά μεγάλο αριθμό τον οποίο ίσως θα χρειαστεί να μειώσουμε. Για την μειώση θα επιλέξουμε την τεχνική PCA. Αρχικά θα οπτικοποιήσουμε τις συσχετίσεις των attributes για να δούμε αν έχουμε υψηλές συσχετίσεις, γεγονός που καθιστά το PCA απαραίτητο.\r\n",
        "\r\n"
      ]
    },
    {
      "cell_type": "code",
      "metadata": {
        "colab": {
          "base_uri": "https://localhost:8080/",
          "height": 948
        },
        "id": "SOzKwcXNfs5x",
        "outputId": "54d76c2b-14a7-48a9-820c-b100974ef933"
      },
      "source": [
        "result = pd.concat([X_train, y_train], axis=1).corr()\r\n",
        "fig, ax = plt.subplots(figsize = (18, 14))\r\n",
        "sns.heatmap(result, annot = False)"
      ],
      "execution_count": 21,
      "outputs": [
        {
          "output_type": "execute_result",
          "data": {
            "text/plain": [
              "<matplotlib.axes._subplots.AxesSubplot at 0x7f1c63778150>"
            ]
          },
          "metadata": {
            "tags": []
          },
          "execution_count": 21
        },
        {
          "output_type": "display_data",
          "data": {
            "image/png": "[encoded data removed]",
            "text/plain": [
              "<Figure size 1296x1008 with 2 Axes>"
            ]
          },
          "metadata": {
            "tags": [],
            "needs_background": "light"
          }
        }
      ]
    },
    {
      "cell_type": "markdown",
      "metadata": {
        "id": "1VdvJGNeveAo"
      },
      "source": [
        "Βλέπουμε αρκετές συσχετίσεις, επομένως θα εφαρμόσουμε PCA. Ακριβώς πριν την εφαρμογή του PCA ίσως χρειαστεί να κάνουμε κάποια τροποποίηση στα δεδομένα μας είτε με την μορφή Standardization είτε με την μορφή Normalization."
      ]
    },
    {
      "cell_type": "code",
      "metadata": {
        "colab": {
          "base_uri": "https://localhost:8080/",
          "height": 504
        },
        "id": "sZfUbhDkqUCB",
        "outputId": "2cc85584-785b-433b-fca3-7048ceb7c623"
      },
      "source": [
        "n = 60\r\n",
        "pca = PCA(n_components=n)\r\n",
        "stdT=StandardScaler()\r\n",
        "stdTrain=stdT.fit_transform(X_train)\r\n",
        "trainPCA = pca.fit_transform(stdTrain)\r\n",
        "\r\n",
        "evar = pca.explained_variance_ratio_\r\n",
        "cum_evar = np.cumsum(evar)\r\n",
        "print(cum_evar)\r\n",
        "plt.figure(1, figsize=(5, 5))\r\n",
        "plt.xlabel(\"Principal Component number\")\r\n",
        "plt.ylabel('Cumulative Variance')\r\n",
        "plt.plot(cum_evar, linewidth=2)\r\n",
        "plt.show()"
      ],
      "execution_count": 22,
      "outputs": [
        {
          "output_type": "stream",
          "text": [
            "[0.24997485 0.42098734 0.51318639 0.59074327 0.64613443 0.68760684\n",
            " 0.71910829 0.74863991 0.76899851 0.78513398 0.80024729 0.81476338\n",
            " 0.82837552 0.83871217 0.84801943 0.85707147 0.86552462 0.87300145\n",
            " 0.8799985  0.88649032 0.89293538 0.89885795 0.9042276  0.90941965\n",
            " 0.91436431 0.91914313 0.92370301 0.92801784 0.93210057 0.93601213\n",
            " 0.93971077 0.94324316 0.94655343 0.94963896 0.95259886 0.95533293\n",
            " 0.95786353 0.96034935 0.96274837 0.96486775 0.966955   0.96901248\n",
            " 0.97099587 0.97293692 0.9748024  0.97643506 0.97803874 0.97944542\n",
            " 0.98078382 0.98203977 0.98321048 0.98431166 0.9853553  0.98636557\n",
            " 0.98727888 0.9881131  0.98888006 0.9896139  0.99031188 0.99097409]\n"
          ],
          "name": "stdout"
        },
        {
          "output_type": "display_data",
          "data": {
            "image/png": "[encoded data removed]",
            "text/plain": [
              "<Figure size 360x360 with 1 Axes>"
            ]
          },
          "metadata": {
            "tags": [],
            "needs_background": "light"
          }
        }
      ]
    },
    {
      "cell_type": "markdown",
      "metadata": {
        "id": "nN0lDjxVs7xw"
      },
      "source": [
        "Παρατηρούμε από το διάγραμμα ότι για πάνω από 23 συνιστώσες έχουμε κάλυψη του 90% της πληροφορίας."
      ]
    },
    {
      "cell_type": "code",
      "metadata": {
        "colab": {
          "base_uri": "https://localhost:8080/",
          "height": 504
        },
        "id": "d42GM7Tiz9ay",
        "outputId": "44edc061-120a-4af2-dc29-92c8dee63b4c"
      },
      "source": [
        "n = 60\r\n",
        "pca = PCA(n_components=n)\r\n",
        "norm=Normalizer()\r\n",
        "normTrain=norm.fit_transform(X_train)\r\n",
        "trainPCA = pca.fit_transform(normTrain)\r\n",
        "\r\n",
        "evar = pca.explained_variance_ratio_\r\n",
        "cum_evar = np.cumsum(evar)\r\n",
        "print(cum_evar)\r\n",
        "plt.figure(1, figsize=(5, 5))\r\n",
        "plt.xlabel(\"Principal Component number\")\r\n",
        "plt.ylabel('Cumulative Variance')\r\n",
        "plt.plot(cum_evar, linewidth=2)\r\n",
        "plt.show()"
      ],
      "execution_count": 23,
      "outputs": [
        {
          "output_type": "stream",
          "text": [
            "[0.24891015 0.42249709 0.50239633 0.58066604 0.63216439 0.6731019\n",
            " 0.70796387 0.73768582 0.75850199 0.7785477  0.79409786 0.80912804\n",
            " 0.82269664 0.83453898 0.8459842  0.85568444 0.8641575  0.87229035\n",
            " 0.88000085 0.88714605 0.89394169 0.90031266 0.90626289 0.91187191\n",
            " 0.91725741 0.92253107 0.92723857 0.93148247 0.93552004 0.93918929\n",
            " 0.94276813 0.94627054 0.94961158 0.95269066 0.95563005 0.95838185\n",
            " 0.96086769 0.96331091 0.96568417 0.96783883 0.9699855  0.97195674\n",
            " 0.97382362 0.97551621 0.97701251 0.97845251 0.9798076  0.98105122\n",
            " 0.98224296 0.98336302 0.98439859 0.98540122 0.98630085 0.98716874\n",
            " 0.98797552 0.98873535 0.98945431 0.99015933 0.99080797 0.99143317]\n"
          ],
          "name": "stdout"
        },
        {
          "output_type": "display_data",
          "data": {
            "image/png": "[encoded data removed]",
            "text/plain": [
              "<Figure size 360x360 with 1 Axes>"
            ]
          },
          "metadata": {
            "tags": [],
            "needs_background": "light"
          }
        }
      ]
    },
    {
      "cell_type": "markdown",
      "metadata": {
        "id": "HurawFyf0caf"
      },
      "source": [
        "Παρατηρούμε από το διάγραμμα ότι για πάνω από 22 συνιστώσες έχουμε κάλυψη του 90% της πληροφορίας. Συνεπώς συνυπολογίζοντας και τις 2 περιπτώσεις θα θέσουμε τα compenents του PCA σαν υπερπαράμετρο για tuning στο έυρος [22,40], όπως επίσης θα θέσουμε υπερπαράμετρο το να εφαρμοστεί πριν απο το PCA normalization ή standardization.Tέλος ακόμα μια υπερπαράμετρο στην κατηγορία προεπεξεργασία και feature selection θα είναι το VarianceThreshold. Θα κοιτάξουμε το variance κάθε attribute έτσι ώστε να μπορέσουμε να θέσουμε κάποιο αρχικό range στις τιμές του threshold."
      ]
    },
    {
      "cell_type": "code",
      "metadata": {
        "colab": {
          "base_uri": "https://localhost:8080/"
        },
        "id": "DJbxE_8OS3aq",
        "outputId": "e1c41f55-1ebb-4896-c3ef-989c6bce4ff0"
      },
      "source": [
        "train_variance = X_train.var(axis=0)\r\n",
        "print(train_variance)\r\n",
        "print(np.max(train_variance))"
      ],
      "execution_count": 24,
      "outputs": [
        {
          "output_type": "stream",
          "text": [
            "population             0.015738\n",
            "householdsize          0.027169\n",
            "racepctblack           0.064190\n",
            "racePctWhite           0.060247\n",
            "racePctAsian           0.044506\n",
            "                         ...   \n",
            "PctSameState85         0.040798\n",
            "LandArea               0.011210\n",
            "PopDens                0.040881\n",
            "PctUsePubTrans         0.049970\n",
            "LemasPctOfficDrugUn    0.059358\n",
            "Length: 100, dtype: float64\n",
            "0.19764913118551541\n"
          ],
          "name": "stdout"
        }
      ]
    },
    {
      "cell_type": "markdown",
      "metadata": {
        "id": "rX5yjSM31LNF"
      },
      "source": [
        "# Linear Models"
      ]
    },
    {
      "cell_type": "markdown",
      "metadata": {
        "id": "0i3_HHe91Q9Z"
      },
      "source": [
        "Για την συγκεκριμένη κατηγορία αλγορίθμων θα χρησιμοποιήσουμε τους εξής :\r\n",
        "\r\n",
        "\r\n",
        "\r\n",
        "*   Ridge Regression\r\n",
        "*   Lasso\r\n",
        "*   ElasticNet\r\n",
        "\r\n"
      ]
    },
    {
      "cell_type": "markdown",
      "metadata": {
        "id": "Nb4Qx7Bu2GSY"
      },
      "source": [
        "### Ridge Regression"
      ]
    },
    {
      "cell_type": "markdown",
      "metadata": {
        "id": "ilceHazX5wM4"
      },
      "source": [
        "Συνοπτικά ο Ridge αλγόριθμος ακολουθεί την λογική του Ordinary Least Squares, μόνο που για να αποφύγουμε το overfitting εισσάγουμε ένα penalty, το λεγόμενο L2 Regularization. Το penalty αυτό είναι η κύρια υπερπαράμετρος του συγκεκριμένου αλγορίθμου και αυτη θα μας απασχολήσει στην εφαρμογή του grid search CV. Η υπερπαράμετρος αυτή εμφανίζεται ως alpha. Ο τρόπος που επιλέξαμε το εύρος της υπερπαραμέτρου είναι μέσω δοκιμών, δηλαδή ορίσαμε ένα αρχικό εύρος, παρατηρήσαμε ότι τείνει το grid search να επιστρέφει τιμές που βρίσκονται στο άνω άκρο του έυρους και προσαρμόσαμε στην επόμενη δοκιμή κατάλληλα το εύρος."
      ]
    },
    {
      "cell_type": "code",
      "metadata": {
        "colab": {
          "base_uri": "https://localhost:8080/"
        },
        "id": "fqtnGxFO2LH-",
        "outputId": "434353d9-9041-4cb9-e2da-f9a022319fcc"
      },
      "source": [
        "threshold=[0,0.01,0.05,0.1,0.15]\r\n",
        "components=[i for i in range(40,100,3)]\r\n",
        "alpha=[0.5,1, 5, 10, 20, 40 , 60]\r\n",
        "pipe = Pipeline(steps=[('variance',VarianceThreshold()),('preprocess',StandardScaler()),('pca', PCA()),('estimator', Ridge())])\r\n",
        "\r\n",
        "params_grid = [\r\n",
        "               {'variance__threshold': threshold,\r\n",
        "                'preprocess':[StandardScaler()],\r\n",
        "                'pca__n_components': components,\r\n",
        "                'estimator__alpha': alpha\r\n",
        "                },\r\n",
        "                {'variance__threshold': threshold,\r\n",
        "                'preprocess': [Normalizer()],\r\n",
        "                'pca__n_components': components,\r\n",
        "                'estimator__alpha': alpha\r\n",
        "                },\r\n",
        "               {'variance__threshold': threshold,\r\n",
        "                'preprocess': [MinMaxScaler()],\r\n",
        "                'pca__n_components': components,\r\n",
        "                'estimator__alpha': alpha\r\n",
        "               }               \r\n",
        "]\r\n",
        "\r\n",
        "grid = GridSearchCV(pipe, params_grid,cv=5,verbose=1,scoring=\"neg_mean_squared_error\",n_jobs=-1)\r\n",
        "grid.fit(X_train,y_train)"
      ],
      "execution_count": 131,
      "outputs": [
        {
          "output_type": "stream",
          "text": [
            "Fitting 5 folds for each of 2100 candidates, totalling 10500 fits\n"
          ],
          "name": "stdout"
        },
        {
          "output_type": "stream",
          "text": [
            "[Parallel(n_jobs=-1)]: Using backend LokyBackend with 2 concurrent workers.\n",
            "[Parallel(n_jobs=-1)]: Done 300 tasks      | elapsed:    4.0s\n",
            "[Parallel(n_jobs=-1)]: Done 1500 tasks      | elapsed:   19.0s\n",
            "[Parallel(n_jobs=-1)]: Done 3500 tasks      | elapsed:   44.1s\n",
            "[Parallel(n_jobs=-1)]: Done 6300 tasks      | elapsed:  1.3min\n",
            "[Parallel(n_jobs=-1)]: Done 9900 tasks      | elapsed:  2.0min\n",
            "[Parallel(n_jobs=-1)]: Done 10500 out of 10500 | elapsed:  2.1min finished\n"
          ],
          "name": "stderr"
        },
        {
          "output_type": "execute_result",
          "data": {
            "text/plain": [
              "GridSearchCV(cv=5, error_score=nan,\n",
              "             estimator=Pipeline(memory=None,\n",
              "                                steps=[('variance',\n",
              "                                        VarianceThreshold(threshold=0.0)),\n",
              "                                       ('preprocess',\n",
              "                                        StandardScaler(copy=True,\n",
              "                                                       with_mean=True,\n",
              "                                                       with_std=True)),\n",
              "                                       ('pca',\n",
              "                                        PCA(copy=True, iterated_power='auto',\n",
              "                                            n_components=None,\n",
              "                                            random_state=None,\n",
              "                                            svd_solver='auto', tol=0.0,\n",
              "                                            whiten=False)),\n",
              "                                       ('estimator',\n",
              "                                        Ridge(alpha=1.0, copy_X=True,\n",
              "                                              f...\n",
              "                          'variance__threshold': [0, 0.01, 0.05, 0.1, 0.15]},\n",
              "                         {'estimator__alpha': [0.5, 1, 5, 10, 20, 40, 60],\n",
              "                          'pca__n_components': [40, 43, 46, 49, 52, 55, 58, 61,\n",
              "                                                64, 67, 70, 73, 76, 79, 82, 85,\n",
              "                                                88, 91, 94, 97],\n",
              "                          'preprocess': [MinMaxScaler(copy=True,\n",
              "                                                      feature_range=(0, 1))],\n",
              "                          'variance__threshold': [0, 0.01, 0.05, 0.1, 0.15]}],\n",
              "             pre_dispatch='2*n_jobs', refit=True, return_train_score=False,\n",
              "             scoring='neg_mean_squared_error', verbose=1)"
            ]
          },
          "metadata": {
            "tags": []
          },
          "execution_count": 131
        }
      ]
    },
    {
      "cell_type": "code",
      "metadata": {
        "colab": {
          "base_uri": "https://localhost:8080/"
        },
        "id": "aPwcgO8qkXuJ",
        "outputId": "98ecee22-fd75-444a-bfb8-322101c0b5e3"
      },
      "source": [
        "print(\" Results from Grid Search for Ridge:\" )\r\n",
        "\r\n",
        "print(\"\\n The best MSE ERROR across ALL searched params:\\n\",grid.best_score_)\r\n",
        "print(\"\\n The best parameters across ALL searched params:\\n\",grid.best_params_)\r\n"
      ],
      "execution_count": 132,
      "outputs": [
        {
          "output_type": "stream",
          "text": [
            " Results from Grid Search for Ridge:\n",
            "\n",
            " The best MSE ERROR across ALL searched params:\n",
            " -0.018768919968286668\n",
            "\n",
            " The best parameters across ALL searched params:\n",
            " {'estimator__alpha': 40, 'pca__n_components': 94, 'preprocess': StandardScaler(copy=True, with_mean=True, with_std=True), 'variance__threshold': 0}\n"
          ],
          "name": "stdout"
        }
      ]
    },
    {
      "cell_type": "markdown",
      "metadata": {
        "id": "2iCzPvRVxICO"
      },
      "source": [
        "##### Optimized Ridge"
      ]
    },
    {
      "cell_type": "code",
      "metadata": {
        "id": "y61A3LVk3mXV"
      },
      "source": [
        "variance_thre=VarianceThreshold(threshold=0)\r\n",
        "preprocess_method=StandardScaler()\r\n",
        "pca=PCA(n_components=94)\r\n",
        "ridge=Ridge(alpha=40)\r\n",
        "\r\n",
        "fit_start = time.time()\r\n",
        "X_train_var=variance_thre.fit_transform(X_train)\r\n",
        "X_train_pre=preprocess_method.fit_transform(X_train_var)\r\n",
        "X_train_pca=pca.fit_transform(X_train_pre)\r\n",
        "ridge.fit(X_train_pca,y_train)\r\n",
        "opt_rid_fit_time=time.time() - fit_start\r\n",
        "\r\n",
        "opt_rid_train_pred=ridge.predict(X_train_pca)\r\n",
        "\r\n",
        "pred_start=time.time()\r\n",
        "X_test_var=variance_thre.transform(X_test)\r\n",
        "X_test_pre=preprocess_method.transform(X_test_var)\r\n",
        "X_test_pca=pca.transform(X_test_pre)\r\n",
        "opt_rid_test_pred=ridge.predict(X_test_pca)\r\n",
        "opt_rid_pred_time=time.time() - pred_start"
      ],
      "execution_count": 25,
      "outputs": []
    },
    {
      "cell_type": "code",
      "metadata": {
        "colab": {
          "base_uri": "https://localhost:8080/"
        },
        "id": "v84r1hHHxwn3",
        "outputId": "54eccc37-3402-422d-a4b0-63b410ed80c8"
      },
      "source": [
        "print(\"___________________________ TRAINING SET ___________________________\\n\")\r\n",
        "print(\"MSE error: \",mean_squared_error(y_train,opt_rid_train_pred))\r\n",
        "print(\"R2 score: \",r2_score(y_train, opt_rid_train_pred))\r\n",
        "print(\"Χρονος εκτέλεσης τελικού fit :\", opt_rid_fit_time,\"seconds \\n\\n\\n\")\r\n",
        "\r\n",
        "\r\n",
        "\r\n",
        "print(\"___________________________ TEST SET ___________________________\\n\")\r\n",
        "print(\"MSE error: \",mean_squared_error(y_test,opt_rid_test_pred))\r\n",
        "print(\"R2 score: \",r2_score(y_test, opt_rid_test_pred))\r\n",
        "print(\"Χρονος εκτέλεσης predict :\", opt_rid_pred_time,\"seconds\")"
      ],
      "execution_count": 26,
      "outputs": [
        {
          "output_type": "stream",
          "text": [
            "___________________________ TRAINING SET ___________________________\n",
            "\n",
            "MSE error:  0.016903393335779046\n",
            "R2 score:  0.6880587589467382\n",
            "Χρονος εκτέλεσης τελικού fit : 0.034905433654785156 seconds \n",
            "\n",
            "\n",
            "\n",
            "___________________________ TEST SET ___________________________\n",
            "\n",
            "MSE error:  0.017898332737710753\n",
            "R2 score:  0.6716247374115389\n",
            "Χρονος εκτέλεσης predict : 0.00331878662109375 seconds\n"
          ],
          "name": "stdout"
        }
      ]
    },
    {
      "cell_type": "markdown",
      "metadata": {
        "id": "aOzNFj40xVyX"
      },
      "source": [
        "##### Non Optimized Ridge"
      ]
    },
    {
      "cell_type": "code",
      "metadata": {
        "id": "khLRYyjlxbYC"
      },
      "source": [
        "rid=Ridge()\r\n",
        "\r\n",
        "fit_start = time.time()\r\n",
        "rid.fit(X_train,y_train)\r\n",
        "nonopt_rid_fit_time=time.time() - fit_start\r\n",
        "\r\n",
        "nonopt_rid_train_pred=rid.predict(X_train)\r\n",
        "\r\n",
        "pred_start=time.time()\r\n",
        "nonopt_rid_test_pred=rid.predict(X_test)\r\n",
        "nonopt_rid_pred_time=time.time() - pred_start"
      ],
      "execution_count": 27,
      "outputs": []
    },
    {
      "cell_type": "code",
      "metadata": {
        "colab": {
          "base_uri": "https://localhost:8080/"
        },
        "id": "O48aEe8UBQJ5",
        "outputId": "8b21bc2a-7a96-4a5d-86a3-ab638f1f209f"
      },
      "source": [
        "print(\"___________________________ TRAINING SET ___________________________\\n\")\r\n",
        "print(\"MSE error: \",mean_squared_error(y_train,nonopt_rid_train_pred))\r\n",
        "print(\"R2 score: \",r2_score(y_train, nonopt_rid_train_pred))\r\n",
        "print(\"Χρονος εκτέλεσης τελικού fit :\", nonopt_rid_fit_time,\"seconds \\n\\n\\n\")\r\n",
        "\r\n",
        "\r\n",
        "\r\n",
        "print(\"___________________________ TEST SET ___________________________\\n\")\r\n",
        "print(\"MSE error: \",mean_squared_error(y_test,nonopt_rid_test_pred))\r\n",
        "print(\"R2 score: \",r2_score(y_test, nonopt_rid_test_pred))\r\n",
        "print(\"Χρονος εκτέλεσης predict :\", nonopt_rid_pred_time,\"seconds\")"
      ],
      "execution_count": 28,
      "outputs": [
        {
          "output_type": "stream",
          "text": [
            "___________________________ TRAINING SET ___________________________\n",
            "\n",
            "MSE error:  0.01681352514721068\n",
            "R2 score:  0.6897172185066827\n",
            "Χρονος εκτέλεσης τελικού fit : 0.011630535125732422 seconds \n",
            "\n",
            "\n",
            "\n",
            "___________________________ TEST SET ___________________________\n",
            "\n",
            "MSE error:  0.01786683643608226\n",
            "R2 score:  0.6722025904702225\n",
            "Χρονος εκτέλεσης predict : 0.0019376277923583984 seconds\n"
          ],
          "name": "stdout"
        }
      ]
    },
    {
      "cell_type": "markdown",
      "metadata": {
        "id": "QT-yzfF_HPXY"
      },
      "source": [
        "### Lasso"
      ]
    },
    {
      "cell_type": "markdown",
      "metadata": {
        "id": "IqvgnY7pHUpl"
      },
      "source": [
        "Συνοπτικά ο Lasso αλγόριθμοε θυμίζει πολύ τον Ridge, διαφέρουν όμως στο είδος του penalty που εφαρμόζει ο καθένας. Ο Lasso εφαρμόζει τον L1 Regularization. Η πρακτική συνέπεια αυτής της διαφοράς είναι ότι πολλές φορες ο Lasso, μπορεί να οδηγήσει σε μηδενικά βάρη, δηλαδή να φανεί χρήσιμος και σε σαν τεχνική feature selection. Όμοίως , η υπερπαράμετρος του penalty είναι η alpha και θα την προσεγγίσουμε με τον ίδιο τρόπο όπως και στον Ridge αλγόριθμο."
      ]
    },
    {
      "cell_type": "code",
      "metadata": {
        "colab": {
          "base_uri": "https://localhost:8080/"
        },
        "id": "rvqj-xw1Q2k4",
        "outputId": "150d2866-9ef0-468d-da78-bc2c709557b4"
      },
      "source": [
        "threshold=[0,0.01,0.05,0.1,0.15]\r\n",
        "components=[i for i in range(22,100,3)]\r\n",
        "alpha=[1.15e-5,1.40e-5,1.70e-5, 1e-4,1.15e-4,1.40e-4,1e-3]\r\n",
        "pipe = Pipeline(steps=[('variance',VarianceThreshold()),('preprocess',StandardScaler()),('pca', PCA()),('estimator', Lasso(random_state=0))])\r\n",
        "\r\n",
        "params_grid = [{'variance__threshold': threshold,\r\n",
        "                'preprocess':[StandardScaler()],\r\n",
        "                'pca__n_components': components,\r\n",
        "                'estimator__alpha': alpha\r\n",
        "                },\r\n",
        "                {'variance__threshold': threshold,\r\n",
        "                'preprocess': [Normalizer()],\r\n",
        "                'pca__n_components': components,\r\n",
        "                'estimator__alpha': alpha\r\n",
        "                },\r\n",
        "               {'variance__threshold': threshold,\r\n",
        "                'preprocess': [MinMaxScaler()],\r\n",
        "                'pca__n_components': components,\r\n",
        "                'estimator__alpha': alpha\r\n",
        "                }\r\n",
        "               \r\n",
        "]\r\n",
        "\r\n",
        "grid = GridSearchCV(pipe, params_grid,cv=5,verbose=1,scoring=\"neg_mean_squared_error\",n_jobs=-1)\r\n",
        "grid.fit(X_train,y_train)"
      ],
      "execution_count": 32,
      "outputs": [
        {
          "output_type": "stream",
          "text": [
            "Fitting 5 folds for each of 2730 candidates, totalling 13650 fits\n"
          ],
          "name": "stdout"
        },
        {
          "output_type": "stream",
          "text": [
            "[Parallel(n_jobs=-1)]: Using backend LokyBackend with 2 concurrent workers.\n",
            "[Parallel(n_jobs=-1)]: Done 540 tasks      | elapsed:    5.3s\n",
            "[Parallel(n_jobs=-1)]: Done 2940 tasks      | elapsed:   27.6s\n",
            "[Parallel(n_jobs=-1)]: Done 6940 tasks      | elapsed:  1.1min\n",
            "[Parallel(n_jobs=-1)]: Done 12540 tasks      | elapsed:  1.9min\n",
            "[Parallel(n_jobs=-1)]: Done 13650 out of 13650 | elapsed:  2.0min finished\n"
          ],
          "name": "stderr"
        },
        {
          "output_type": "execute_result",
          "data": {
            "text/plain": [
              "GridSearchCV(cv=5, error_score=nan,\n",
              "             estimator=Pipeline(memory=None,\n",
              "                                steps=[('variance',\n",
              "                                        VarianceThreshold(threshold=0.0)),\n",
              "                                       ('preprocess',\n",
              "                                        StandardScaler(copy=True,\n",
              "                                                       with_mean=True,\n",
              "                                                       with_std=True)),\n",
              "                                       ('pca',\n",
              "                                        PCA(copy=True, iterated_power='auto',\n",
              "                                            n_components=None,\n",
              "                                            random_state=None,\n",
              "                                            svd_solver='auto', tol=0.0,\n",
              "                                            whiten=False)),\n",
              "                                       ('estimator',\n",
              "                                        Lasso(alpha=1.0, copy_X=True,\n",
              "                                              f...\n",
              "                         {'estimator__alpha': [1.15e-05, 1.4e-05, 1.7e-05,\n",
              "                                               0.0001, 0.000115, 0.00014,\n",
              "                                               0.001],\n",
              "                          'pca__n_components': [22, 25, 28, 31, 34, 37, 40, 43,\n",
              "                                                46, 49, 52, 55, 58, 61, 64, 67,\n",
              "                                                70, 73, 76, 79, 82, 85, 88, 91,\n",
              "                                                94, 97],\n",
              "                          'preprocess': [MinMaxScaler(copy=True,\n",
              "                                                      feature_range=(0, 1))],\n",
              "                          'variance__threshold': [0, 0.01, 0.05, 0.1, 0.15]}],\n",
              "             pre_dispatch='2*n_jobs', refit=True, return_train_score=False,\n",
              "             scoring='neg_mean_squared_error', verbose=1)"
            ]
          },
          "metadata": {
            "tags": []
          },
          "execution_count": 32
        }
      ]
    },
    {
      "cell_type": "code",
      "metadata": {
        "colab": {
          "base_uri": "https://localhost:8080/"
        },
        "id": "ng5XzvWfRAt-",
        "outputId": "90642670-df7b-4da7-e0d8-77a87d199a17"
      },
      "source": [
        "print(\" Results from Grid Search for Lasso:\" )\r\n",
        "\r\n",
        "print(\"\\n The best MSE ERROR across ALL searched params:\\n\",grid.best_score_)\r\n",
        "print(\"\\n The best parameters across ALL searched params:\\n\",grid.best_params_)\r\n"
      ],
      "execution_count": 33,
      "outputs": [
        {
          "output_type": "stream",
          "text": [
            " Results from Grid Search for Lasso:\n",
            "\n",
            " The best MSE ERROR across ALL searched params:\n",
            " -0.01873375153129813\n",
            "\n",
            " The best parameters across ALL searched params:\n",
            " {'estimator__alpha': 1.7e-05, 'pca__n_components': 94, 'preprocess': Normalizer(copy=True, norm='l2'), 'variance__threshold': 0}\n"
          ],
          "name": "stdout"
        }
      ]
    },
    {
      "cell_type": "markdown",
      "metadata": {
        "id": "lHzfJNW3y6PR"
      },
      "source": [
        "##### Optimized Lasso"
      ]
    },
    {
      "cell_type": "code",
      "metadata": {
        "id": "UQuap16lRFo_"
      },
      "source": [
        "variance_thre=VarianceThreshold(threshold=0)\r\n",
        "preprocess_method=Normalizer()\r\n",
        "pca=PCA(n_components=94)\r\n",
        "lasso=Lasso(alpha=1.7e-05)\r\n",
        "\r\n",
        "fit_start = time.time()\r\n",
        "X_train_var=variance_thre.fit_transform(X_train)\r\n",
        "X_train_pre=preprocess_method.fit_transform(X_train_var)\r\n",
        "X_train_pca=pca.fit_transform(X_train_pre)\r\n",
        "lasso.fit(X_train_pca,y_train)\r\n",
        "opt_las_fit_time=time.time() - fit_start\r\n",
        "\r\n",
        "opt_las_train_pred=lasso.predict(X_train_pca)\r\n",
        "\r\n",
        "pred_start=time.time()\r\n",
        "X_test_var=variance_thre.transform(X_test)\r\n",
        "X_test_pre=preprocess_method.transform(X_test)\r\n",
        "X_test_pca=pca.transform(X_test_pre)\r\n",
        "opt_las_test_pred=lasso.predict(X_test_pca)\r\n",
        "opt_las_pred_time=time.time() - pred_start"
      ],
      "execution_count": 34,
      "outputs": []
    },
    {
      "cell_type": "code",
      "metadata": {
        "colab": {
          "base_uri": "https://localhost:8080/"
        },
        "id": "pdBUzhUARLY4",
        "outputId": "3fd82b11-f7c6-4553-8937-543c4f93de35"
      },
      "source": [
        "print(\"___________________________ TRAINING SET ___________________________\\n\")\r\n",
        "print(\"MSE error: \",mean_squared_error(y_train,opt_las_train_pred))\r\n",
        "print(\"R2 score: \",r2_score(y_train, opt_las_train_pred))\r\n",
        "print(\"Χρονος εκτέλεσης τελικού fit :\", opt_las_fit_time,\"seconds \\n\\n\\n\")\r\n",
        "\r\n",
        "\r\n",
        "\r\n",
        "print(\"___________________________ TEST SET ___________________________\\n\")\r\n",
        "print(\"MSE error: \",mean_squared_error(y_test,opt_las_test_pred))\r\n",
        "print(\"R2 score: \",r2_score(y_test, opt_las_test_pred))\r\n",
        "print(\"Χρονος εκτέλεσης predict :\", opt_las_pred_time,\"seconds\")"
      ],
      "execution_count": 35,
      "outputs": [
        {
          "output_type": "stream",
          "text": [
            "___________________________ TRAINING SET ___________________________\n",
            "\n",
            "MSE error:  0.016865366020823242\n",
            "R2 score:  0.688760528561016\n",
            "Χρονος εκτέλεσης τελικού fit : 0.023484230041503906 seconds \n",
            "\n",
            "\n",
            "\n",
            "___________________________ TEST SET ___________________________\n",
            "\n",
            "MSE error:  0.018159500139095928\n",
            "R2 score:  0.6668331785961912\n",
            "Χρονος εκτέλεσης predict : 0.006083011627197266 seconds\n"
          ],
          "name": "stdout"
        }
      ]
    },
    {
      "cell_type": "markdown",
      "metadata": {
        "id": "ifWaacRIymoD"
      },
      "source": [
        "##### Non Optimized Lasso"
      ]
    },
    {
      "cell_type": "code",
      "metadata": {
        "id": "Z4UJEPScyI23"
      },
      "source": [
        "las=Lasso()\r\n",
        "\r\n",
        "fit_start = time.time()\r\n",
        "las.fit(X_train,y_train)\r\n",
        "nonopt_las_fit_time=time.time() - fit_start\r\n",
        "\r\n",
        "nonopt_las_train_pred=las.predict(X_train)\r\n",
        "\r\n",
        "pred_start=time.time()\r\n",
        "nonopt_las_test_pred=las.predict(X_test)\r\n",
        "nonopt_las_pred_time=time.time() - pred_start"
      ],
      "execution_count": 36,
      "outputs": []
    },
    {
      "cell_type": "code",
      "metadata": {
        "colab": {
          "base_uri": "https://localhost:8080/"
        },
        "id": "Bd8BTWjVyaLh",
        "outputId": "f6939fef-ecdd-47f5-a717-c2b951061502"
      },
      "source": [
        "print(\"___________________________ TRAINING SET ___________________________\\n\")\r\n",
        "print(\"MSE error: \",mean_squared_error(y_train,nonopt_las_train_pred))\r\n",
        "print(\"R2 score: \",r2_score(y_train, nonopt_las_train_pred))\r\n",
        "print(\"Χρονος εκτέλεσης τελικού fit :\", nonopt_las_fit_time,\"seconds \\n\\n\\n\")\r\n",
        "\r\n",
        "\r\n",
        "\r\n",
        "print(\"___________________________ TEST SET ___________________________\\n\")\r\n",
        "print(\"MSE error: \",mean_squared_error(y_test,nonopt_las_test_pred))\r\n",
        "print(\"R2 score: \",r2_score(y_test, nonopt_las_test_pred))\r\n",
        "print(\"Χρονος εκτέλεσης predict :\", nonopt_las_pred_time,\"seconds\")"
      ],
      "execution_count": 37,
      "outputs": [
        {
          "output_type": "stream",
          "text": [
            "___________________________ TRAINING SET ___________________________\n",
            "\n",
            "MSE error:  0.054187747919143874\n",
            "R2 score:  0.0\n",
            "Χρονος εκτέλεσης τελικού fit : 0.005643367767333984 seconds \n",
            "\n",
            "\n",
            "\n",
            "___________________________ TEST SET ___________________________\n",
            "\n",
            "MSE error:  0.054526757309444826\n",
            "R2 score:  -0.00038581872270881945\n",
            "Χρονος εκτέλεσης predict : 0.002241849899291992 seconds\n"
          ],
          "name": "stdout"
        }
      ]
    },
    {
      "cell_type": "markdown",
      "metadata": {
        "id": "6zl8vJ10IgPa"
      },
      "source": [
        "### ElasticNet"
      ]
    },
    {
      "cell_type": "markdown",
      "metadata": {
        "id": "Pghdgmj5IqkR"
      },
      "source": [
        "Ο αλγόριθμος ElasticNet συνδυάζει L1 και L2 Regularization και έχει 2 σημαντικές υπερπαραμέτρους. Το alpha, που αναφέρεται στο penalty για κάθε ένα απο τα L1 και L2, όπως επίσης και το l1_ratio, το οποίο είναι το βάρος που θα δοθεί σε κάθε ένα απο τα L1 (l1_ratio) και L2 (1-l1_ratio). Θα τεθεί ένα αρχικό έυρος για κάθε μια από τις υπερπαραμέτρους και θα προσαρμοστεί ανάλογα με τα αποτελέσματα. Ακόμα μια υπερπαράμετρος που θα θέσουμε προς βελτιστοποίηση είναι η \"normlize\" του ElasticNet , η οποία κανονικοποεί ή όχι την είσοδο. Φυσικά στις περιπτώσεις που έχουμε ήδη κάποιον normalizer θέτουμε την υπερπαράμετρο σε False"
      ]
    },
    {
      "cell_type": "code",
      "metadata": {
        "colab": {
          "base_uri": "https://localhost:8080/"
        },
        "id": "5YseWGqdzzqJ",
        "outputId": "0d83b6ee-d209-4222-a534-6d1741d09fb9"
      },
      "source": [
        "threshold=[0,0.01,0.05,0.1,0.15]\r\n",
        "components=[i for i in range(22,100,3)]\r\n",
        "alpha=[1.15e-5,1.40e-5,1.70e-5, 1e-4,1.15e-4,1.40e-4,1e-3]\r\n",
        "l1=[0,0.1,0.2,0.3,0.4,0.5,0.6,0.7,0.8,0.9,1]\r\n",
        "\r\n",
        "pipe = Pipeline(steps=[('variance',VarianceThreshold()),('preprocess',StandardScaler()),('pca', PCA()),('estimator', ElasticNet(random_state=0))])\r\n",
        "\r\n",
        "params_grid = [{'variance__threshold': threshold,\r\n",
        "                'preprocess':[StandardScaler()],\r\n",
        "                'pca__n_components': components,\r\n",
        "                'estimator__alpha': alpha,\r\n",
        "                'estimator__l1_ratio': l1,\r\n",
        "                'estimator__normalize':[True,False]\r\n",
        "                },\r\n",
        "                {'variance__threshold': threshold,\r\n",
        "                'preprocess': [Normalizer()],\r\n",
        "                'pca__n_components': components,\r\n",
        "                'estimator__alpha': alpha,\r\n",
        "                 'estimator__l1_ratio': l1\r\n",
        "                },\r\n",
        "               {'variance__threshold': threshold,\r\n",
        "                'preprocess': [MinMaxScaler()],\r\n",
        "                'pca__n_components': components,\r\n",
        "                'estimator__alpha': alpha,\r\n",
        "                'estimator__l1_ratio': l1,\r\n",
        "                }\r\n",
        "               \r\n",
        "]\r\n",
        "\r\n",
        "grid = GridSearchCV(pipe, params_grid,cv=5,verbose=1,scoring=\"neg_mean_squared_error\",n_jobs=-1)\r\n",
        "grid.fit(X_train,y_train)"
      ],
      "execution_count": 145,
      "outputs": [
        {
          "output_type": "stream",
          "text": [
            "Fitting 5 folds for each of 40040 candidates, totalling 200200 fits\n"
          ],
          "name": "stdout"
        },
        {
          "output_type": "stream",
          "text": [
            "[Parallel(n_jobs=-1)]: Using backend LokyBackend with 2 concurrent workers.\n",
            "[Parallel(n_jobs=-1)]: Done 276 tasks      | elapsed:    7.3s\n",
            "[Parallel(n_jobs=-1)]: Done 1476 tasks      | elapsed:   51.2s\n",
            "[Parallel(n_jobs=-1)]: Done 3476 tasks      | elapsed:  1.3min\n",
            "[Parallel(n_jobs=-1)]: Done 6276 tasks      | elapsed:  1.8min\n",
            "[Parallel(n_jobs=-1)]: Done 9876 tasks      | elapsed:  2.6min\n",
            "[Parallel(n_jobs=-1)]: Done 14276 tasks      | elapsed:  3.5min\n",
            "[Parallel(n_jobs=-1)]: Done 19476 tasks      | elapsed:  5.1min\n",
            "[Parallel(n_jobs=-1)]: Done 25476 tasks      | elapsed:  6.4min\n",
            "[Parallel(n_jobs=-1)]: Done 32276 tasks      | elapsed:  8.4min\n",
            "[Parallel(n_jobs=-1)]: Done 39876 tasks      | elapsed:  9.9min\n",
            "[Parallel(n_jobs=-1)]: Done 48276 tasks      | elapsed: 12.2min\n",
            "[Parallel(n_jobs=-1)]: Done 57476 tasks      | elapsed: 14.2min\n",
            "[Parallel(n_jobs=-1)]: Done 67476 tasks      | elapsed: 16.8min\n",
            "[Parallel(n_jobs=-1)]: Done 78208 tasks      | elapsed: 19.5min\n",
            "[Parallel(n_jobs=-1)]: Done 89740 tasks      | elapsed: 22.5min\n",
            "[Parallel(n_jobs=-1)]: Done 102140 tasks      | elapsed: 25.3min\n",
            "[Parallel(n_jobs=-1)]: Done 115340 tasks      | elapsed: 28.4min\n",
            "[Parallel(n_jobs=-1)]: Done 129340 tasks      | elapsed: 31.7min\n",
            "[Parallel(n_jobs=-1)]: Done 144140 tasks      | elapsed: 35.1min\n",
            "[Parallel(n_jobs=-1)]: Done 159740 tasks      | elapsed: 38.7min\n",
            "[Parallel(n_jobs=-1)]: Done 176140 tasks      | elapsed: 42.5min\n",
            "[Parallel(n_jobs=-1)]: Done 193340 tasks      | elapsed: 46.4min\n",
            "[Parallel(n_jobs=-1)]: Done 200200 out of 200200 | elapsed: 48.0min finished\n"
          ],
          "name": "stderr"
        },
        {
          "output_type": "execute_result",
          "data": {
            "text/plain": [
              "GridSearchCV(cv=5, error_score=nan,\n",
              "             estimator=Pipeline(memory=None,\n",
              "                                steps=[('variance',\n",
              "                                        VarianceThreshold(threshold=0.0)),\n",
              "                                       ('preprocess',\n",
              "                                        StandardScaler(copy=True,\n",
              "                                                       with_mean=True,\n",
              "                                                       with_std=True)),\n",
              "                                       ('pca',\n",
              "                                        PCA(copy=True, iterated_power='auto',\n",
              "                                            n_components=None,\n",
              "                                            random_state=None,\n",
              "                                            svd_solver='auto', tol=0.0,\n",
              "                                            whiten=False)),\n",
              "                                       ('estimator',\n",
              "                                        ElasticNet(alpha=1.0, copy_X=T...\n",
              "                          'estimator__l1_ratio': [0, 0.1, 0.2, 0.3, 0.4, 0.5,\n",
              "                                                  0.6, 0.7, 0.8, 0.9, 1],\n",
              "                          'pca__n_components': [22, 25, 28, 31, 34, 37, 40, 43,\n",
              "                                                46, 49, 52, 55, 58, 61, 64, 67,\n",
              "                                                70, 73, 76, 79, 82, 85, 88, 91,\n",
              "                                                94, 97],\n",
              "                          'preprocess': [MinMaxScaler(copy=True,\n",
              "                                                      feature_range=(0, 1))],\n",
              "                          'variance__threshold': [0, 0.01, 0.05, 0.1, 0.15]}],\n",
              "             pre_dispatch='2*n_jobs', refit=True, return_train_score=False,\n",
              "             scoring='neg_mean_squared_error', verbose=1)"
            ]
          },
          "metadata": {
            "tags": []
          },
          "execution_count": 145
        }
      ]
    },
    {
      "cell_type": "code",
      "metadata": {
        "colab": {
          "base_uri": "https://localhost:8080/"
        },
        "id": "7vIUiO2m22mD",
        "outputId": "5454f54e-0e99-4da1-d562-32f195b92cd6"
      },
      "source": [
        "print(\" Results from Grid Search for ElasticNet:\" )\r\n",
        "\r\n",
        "print(\"\\n The best MSE ERROR across ALL searched params:\\n\",grid.best_score_)\r\n",
        "print(\"\\n The best parameters across ALL searched params:\\n\",grid.best_params_)\r\n"
      ],
      "execution_count": 146,
      "outputs": [
        {
          "output_type": "stream",
          "text": [
            " Results from Grid Search for ElasticNet:\n",
            "\n",
            " The best MSE ERROR across ALL searched params:\n",
            " -0.01873375153129813\n",
            "\n",
            " The best parameters across ALL searched params:\n",
            " {'estimator__alpha': 1.7e-05, 'estimator__l1_ratio': 1, 'pca__n_components': 94, 'preprocess': Normalizer(copy=True, norm='l2'), 'variance__threshold': 0}\n"
          ],
          "name": "stdout"
        }
      ]
    },
    {
      "cell_type": "markdown",
      "metadata": {
        "id": "PdXIVH_c28yp"
      },
      "source": [
        "##### Optimized ElasticNet"
      ]
    },
    {
      "cell_type": "code",
      "metadata": {
        "id": "M5cuF3fV3DVX"
      },
      "source": [
        "variance_thre=VarianceThreshold(threshold=0)\r\n",
        "preprocess_method=Normalizer()\r\n",
        "pca=PCA(n_components=34)\r\n",
        "elastic=ElasticNet(alpha=1.7e-05,l1_ratio=1,normalize=False)\r\n",
        "\r\n",
        "fit_start = time.time()\r\n",
        "X_train_var=variance_thre.fit_transform(X_train)\r\n",
        "X_train_pre=preprocess_method.fit_transform(X_train_var)\r\n",
        "X_train_pca=pca.fit_transform(X_train_pre)\r\n",
        "elastic.fit(X_train_pca,y_train)\r\n",
        "opt_elas_fit_time=time.time() - fit_start\r\n",
        "\r\n",
        "opt_elas_train_pred=elastic.predict(X_train_pca)\r\n",
        "\r\n",
        "pred_start=time.time()\r\n",
        "X_test_var=variance_thre.transform(X_test)\r\n",
        "X_test_pre=preprocess_method.transform(X_test)\r\n",
        "X_test_pca=pca.transform(X_test_pre)\r\n",
        "opt_elas_test_pred=elastic.predict(X_test_pca)\r\n",
        "opt_elas_pred_time=time.time() - pred_start"
      ],
      "execution_count": 38,
      "outputs": []
    },
    {
      "cell_type": "code",
      "metadata": {
        "colab": {
          "base_uri": "https://localhost:8080/"
        },
        "id": "9iY8xcoA34UY",
        "outputId": "4f47fa31-f934-4e0e-d74f-3b7584e6b646"
      },
      "source": [
        "print(\"___________________________ TRAINING SET ___________________________\\n\")\r\n",
        "print(\"MSE error: \",mean_squared_error(y_train,opt_elas_train_pred))\r\n",
        "print(\"R2 score: \",r2_score(y_train, opt_elas_train_pred))\r\n",
        "print(\"Χρονος εκτέλεσης τελικού fit :\", opt_elas_fit_time,\"seconds \\n\\n\\n\")\r\n",
        "\r\n",
        "\r\n",
        "\r\n",
        "print(\"___________________________ TEST SET ___________________________\\n\")\r\n",
        "print(\"MSE error: \",mean_squared_error(y_test,opt_elas_test_pred))\r\n",
        "print(\"R2 score: \",r2_score(y_test, opt_elas_test_pred))\r\n",
        "print(\"Χρονος εκτέλεσης predict :\", opt_elas_pred_time,\"seconds\")"
      ],
      "execution_count": 39,
      "outputs": [
        {
          "output_type": "stream",
          "text": [
            "___________________________ TRAINING SET ___________________________\n",
            "\n",
            "MSE error:  0.01860323935869892\n",
            "R2 score:  0.6566891950103242\n",
            "Χρονος εκτέλεσης τελικού fit : 0.02575993537902832 seconds \n",
            "\n",
            "\n",
            "\n",
            "___________________________ TEST SET ___________________________\n",
            "\n",
            "MSE error:  0.019587841701859673\n",
            "R2 score:  0.6406278307231833\n",
            "Χρονος εκτέλεσης predict : 0.0032911300659179688 seconds\n"
          ],
          "name": "stdout"
        }
      ]
    },
    {
      "cell_type": "markdown",
      "metadata": {
        "id": "seRClZUm4Azo"
      },
      "source": [
        "##### Non Optimzed ElasticNet"
      ]
    },
    {
      "cell_type": "code",
      "metadata": {
        "id": "k-jd5r4-4Ely"
      },
      "source": [
        "elastic=ElasticNet()\r\n",
        "\r\n",
        "fit_start = time.time()\r\n",
        "elastic.fit(X_train,y_train)\r\n",
        "nonopt_elas_fit_time=time.time() - fit_start\r\n",
        "\r\n",
        "nonopt_elas_train_pred=elastic.predict(X_train)\r\n",
        "\r\n",
        "pred_start=time.time()\r\n",
        "nonopt_elas_test_pred=elastic.predict(X_test)\r\n",
        "nonopt_elas_pred_time=time.time() - pred_start"
      ],
      "execution_count": 40,
      "outputs": []
    },
    {
      "cell_type": "code",
      "metadata": {
        "colab": {
          "base_uri": "https://localhost:8080/"
        },
        "id": "P5YUhcPH4cC1",
        "outputId": "1d8113c2-b427-4cd5-ee99-d1aceef1ba5c"
      },
      "source": [
        "print(\"___________________________ TRAINING SET ___________________________\\n\")\r\n",
        "print(\"MSE error: \",mean_squared_error(y_train,nonopt_elas_train_pred))\r\n",
        "print(\"R2 score: \",r2_score(y_train, nonopt_elas_train_pred))\r\n",
        "print(\"Χρονος εκτέλεσης τελικού fit :\", nonopt_elas_fit_time,\"seconds \\n\\n\\n\")\r\n",
        "\r\n",
        "\r\n",
        "\r\n",
        "print(\"___________________________ TEST SET ___________________________\\n\")\r\n",
        "print(\"MSE error: \",mean_squared_error(y_test,nonopt_elas_test_pred))\r\n",
        "print(\"R2 score: \",r2_score(y_test, nonopt_elas_test_pred))\r\n",
        "print(\"Χρονος εκτέλεσης predict :\", nonopt_elas_pred_time,\"seconds\")"
      ],
      "execution_count": 41,
      "outputs": [
        {
          "output_type": "stream",
          "text": [
            "___________________________ TRAINING SET ___________________________\n",
            "\n",
            "MSE error:  0.054187747919143874\n",
            "R2 score:  0.0\n",
            "Χρονος εκτέλεσης τελικού fit : 0.008486032485961914 seconds \n",
            "\n",
            "\n",
            "\n",
            "___________________________ TEST SET ___________________________\n",
            "\n",
            "MSE error:  0.054526757309444826\n",
            "R2 score:  -0.00038581872270881945\n",
            "Χρονος εκτέλεσης predict : 0.0020592212677001953 seconds\n"
          ],
          "name": "stdout"
        }
      ]
    },
    {
      "cell_type": "markdown",
      "metadata": {
        "id": "KC6E_JB4m3zu"
      },
      "source": [
        "# Stochastic Gradient Descent\r\n"
      ]
    },
    {
      "cell_type": "markdown",
      "metadata": {
        "id": "KiegaSOioFCz"
      },
      "source": [
        "Για την συγκεκριμένη κατηγορία αλγορίθμων θα χρησιμοποιήσουμε τον εξής :\r\n",
        "\r\n",
        "\r\n",
        "\r\n",
        "*   Stochastic Gradient Descent regression\r\n",
        "\r\n",
        "\r\n"
      ]
    },
    {
      "cell_type": "markdown",
      "metadata": {
        "id": "Do0T390toQnE"
      },
      "source": [
        "### Stochastic Gradient Descent regression"
      ]
    },
    {
      "cell_type": "markdown",
      "metadata": {
        "id": "ZsNeUvEpoRwH"
      },
      "source": [
        "Παραπάνω είδαμε διάφορα γραμμικά μοντέλα, σε αυτή την κατηγορία θα προσπαθήσουμε να βελτιστοποιήσουμε τα γραμμικά μοντέλα ελαχιστοποιώντας το εμπειρικό σφάλμα με τη χρήση του αλγορίθμου SGD. Σημαντικές υπερπαράμετροι που θα ερευνηθούν είναι το loss, που υποδεικνύει ποιο loss function θα χρησιμοποιηθεί. Όπως επίσης το penalty που μπορεί να πάρει τιμές l1,l2,elastic , δηλαδή οι περιπτώσεις που έχουμε δει και παραπάνω, το alpha δηλαδή η τιμή που θα πολλαπλασιαστεί με το penalty."
      ]
    },
    {
      "cell_type": "code",
      "metadata": {
        "colab": {
          "base_uri": "https://localhost:8080/"
        },
        "id": "iTxhabeztVWB",
        "outputId": "833334d4-c1ed-4847-c118-2be9f5660ab9"
      },
      "source": [
        "threshold=[0,0.01,0.05,0.1,0.15]\r\n",
        "components=[i for i in range(22,100,3)]\r\n",
        "alpha=[1.15e-5,1.40e-5,1.70e-5, 1e-4,1.15e-4,1.40e-4,1e-3]\r\n",
        "loss=['squared_loss','huber','epsilon_insensitive','squared_epsilon_insensitive']\r\n",
        "l1=[0,0.1,0.2,0.3,0.4,0.5,0.6,0.7,0.8,0.9,1]\r\n",
        "penal1=['l2', 'l1']\r\n",
        "penal2=['elasticnet']\r\n",
        "\r\n",
        "\r\n",
        "\r\n",
        "pipe = Pipeline(steps=[('variance',VarianceThreshold()),('preprocess',StandardScaler()),('pca', PCA()),('estimator', SGDRegressor())])\r\n",
        "\r\n",
        "params_grid = [{'variance__threshold': threshold,\r\n",
        "                'preprocess':[StandardScaler()],\r\n",
        "                'pca__n_components': components,\r\n",
        "                'estimator__alpha': alpha,\r\n",
        "                'estimator__l1_ratio': l1,\r\n",
        "                'estimator__loss':loss,\r\n",
        "                'estimator__penalty':penal2\r\n",
        "                },\r\n",
        "               {'variance__threshold': threshold,\r\n",
        "                'preprocess':[StandardScaler()],\r\n",
        "                'pca__n_components': components,\r\n",
        "                'estimator__alpha': alpha,\r\n",
        "                'estimator__loss':loss,\r\n",
        "                'estimator__penalty':penal1\r\n",
        "                },\r\n",
        "                {'variance__threshold': threshold,\r\n",
        "                'preprocess': [Normalizer()],\r\n",
        "                'pca__n_components': components,\r\n",
        "                'estimator__alpha': alpha,\r\n",
        "                'estimator__l1_ratio': l1,\r\n",
        "                'estimator__loss':loss,\r\n",
        "                'estimator__penalty':penal2\r\n",
        "                },\r\n",
        "               {'variance__threshold': threshold,\r\n",
        "                'preprocess': [Normalizer()],\r\n",
        "                'pca__n_components': components,\r\n",
        "                'estimator__alpha': alpha,\r\n",
        "                'estimator__loss':loss,\r\n",
        "                'estimator__penalty':penal1\r\n",
        "                },\r\n",
        "               {'variance__threshold': threshold,\r\n",
        "                'preprocess': [MinMaxScaler()],\r\n",
        "                'pca__n_components': components,\r\n",
        "                'estimator__alpha': alpha,\r\n",
        "                'estimator__l1_ratio': l1,\r\n",
        "                'estimator__loss':loss,\r\n",
        "                'estimator__penalty':penal2\r\n",
        "                },\r\n",
        "               {'variance__threshold': threshold,\r\n",
        "                'preprocess': [MinMaxScaler()],\r\n",
        "                'pca__n_components': components,\r\n",
        "                'estimator__alpha': alpha,\r\n",
        "                'estimator__loss':loss,\r\n",
        "                'estimator__penalty':penal1\r\n",
        "                }\r\n",
        "               \r\n",
        "]\r\n",
        "\r\n",
        "grid = GridSearchCV(pipe, params_grid,cv=5,verbose=1,scoring=\"neg_mean_squared_error\",n_jobs=-1)\r\n",
        "grid.fit(X_train,y_train)"
      ],
      "execution_count": 20,
      "outputs": [
        {
          "output_type": "stream",
          "text": [
            "Fitting 5 folds for each of 141960 candidates, totalling 709800 fits\n"
          ],
          "name": "stdout"
        },
        {
          "output_type": "stream",
          "text": [
            "[Parallel(n_jobs=-1)]: Using backend LokyBackend with 2 concurrent workers.\n",
            "[Parallel(n_jobs=-1)]: Done 360 tasks      | elapsed:    5.4s\n",
            "[Parallel(n_jobs=-1)]: Done 2760 tasks      | elapsed:   34.6s\n",
            "[Parallel(n_jobs=-1)]: Done 6760 tasks      | elapsed:  1.4min\n",
            "[Parallel(n_jobs=-1)]: Done 12360 tasks      | elapsed:  2.5min\n",
            "[Parallel(n_jobs=-1)]: Done 19560 tasks      | elapsed:  3.9min\n",
            "[Parallel(n_jobs=-1)]: Done 28360 tasks      | elapsed:  5.7min\n",
            "[Parallel(n_jobs=-1)]: Done 38760 tasks      | elapsed:  7.8min\n",
            "[Parallel(n_jobs=-1)]: Done 50760 tasks      | elapsed: 10.3min\n",
            "[Parallel(n_jobs=-1)]: Done 64360 tasks      | elapsed: 13.0min\n",
            "[Parallel(n_jobs=-1)]: Done 79560 tasks      | elapsed: 16.1min\n",
            "[Parallel(n_jobs=-1)]: Done 96360 tasks      | elapsed: 19.5min\n",
            "[Parallel(n_jobs=-1)]: Done 114760 tasks      | elapsed: 23.3min\n",
            "[Parallel(n_jobs=-1)]: Done 134760 tasks      | elapsed: 27.4min\n",
            "[Parallel(n_jobs=-1)]: Done 156360 tasks      | elapsed: 31.8min\n",
            "[Parallel(n_jobs=-1)]: Done 179560 tasks      | elapsed: 36.5min\n",
            "[Parallel(n_jobs=-1)]: Done 204360 tasks      | elapsed: 41.5min\n",
            "[Parallel(n_jobs=-1)]: Done 230760 tasks      | elapsed: 46.6min\n",
            "[Parallel(n_jobs=-1)]: Done 258760 tasks      | elapsed: 52.1min\n",
            "[Parallel(n_jobs=-1)]: Done 288360 tasks      | elapsed: 57.9min\n",
            "[Parallel(n_jobs=-1)]: Done 319560 tasks      | elapsed: 64.1min\n",
            "[Parallel(n_jobs=-1)]: Done 352360 tasks      | elapsed: 70.6min\n",
            "[Parallel(n_jobs=-1)]: Done 386760 tasks      | elapsed: 77.4min\n",
            "[Parallel(n_jobs=-1)]: Done 422760 tasks      | elapsed: 84.7min\n",
            "[Parallel(n_jobs=-1)]: Done 460360 tasks      | elapsed: 92.1min\n",
            "[Parallel(n_jobs=-1)]: Done 499560 tasks      | elapsed: 99.7min\n",
            "[Parallel(n_jobs=-1)]: Done 540360 tasks      | elapsed: 107.6min\n",
            "[Parallel(n_jobs=-1)]: Done 582760 tasks      | elapsed: 115.9min\n",
            "[Parallel(n_jobs=-1)]: Done 626760 tasks      | elapsed: 124.4min\n",
            "[Parallel(n_jobs=-1)]: Done 672360 tasks      | elapsed: 133.4min\n",
            "[Parallel(n_jobs=-1)]: Done 709800 out of 709800 | elapsed: 140.4min finished\n"
          ],
          "name": "stderr"
        },
        {
          "output_type": "execute_result",
          "data": {
            "text/plain": [
              "GridSearchCV(cv=5, error_score=nan,\n",
              "             estimator=Pipeline(memory=None,\n",
              "                                steps=[('variance',\n",
              "                                        VarianceThreshold(threshold=0.0)),\n",
              "                                       ('preprocess',\n",
              "                                        StandardScaler(copy=True,\n",
              "                                                       with_mean=True,\n",
              "                                                       with_std=True)),\n",
              "                                       ('pca',\n",
              "                                        PCA(copy=True, iterated_power='auto',\n",
              "                                            n_components=None,\n",
              "                                            random_state=None,\n",
              "                                            svd_solver='auto', tol=0.0,\n",
              "                                            whiten=False)),\n",
              "                                       ('estimator',\n",
              "                                        SGDRegressor(alpha=0.0001,\n",
              "                                                     ave...\n",
              "                                              'squared_epsilon_insensitive'],\n",
              "                          'estimator__penalty': ['l2', 'l1'],\n",
              "                          'pca__n_components': [22, 25, 28, 31, 34, 37, 40, 43,\n",
              "                                                46, 49, 52, 55, 58, 61, 64, 67,\n",
              "                                                70, 73, 76, 79, 82, 85, 88, 91,\n",
              "                                                94, 97],\n",
              "                          'preprocess': [MinMaxScaler(copy=True,\n",
              "                                                      feature_range=(0, 1))],\n",
              "                          'variance__threshold': [0, 0.01, 0.05, 0.1, 0.15]}],\n",
              "             pre_dispatch='2*n_jobs', refit=True, return_train_score=False,\n",
              "             scoring='neg_mean_squared_error', verbose=1)"
            ]
          },
          "metadata": {
            "tags": []
          },
          "execution_count": 20
        }
      ]
    },
    {
      "cell_type": "code",
      "metadata": {
        "colab": {
          "base_uri": "https://localhost:8080/"
        },
        "id": "8DhW3nQL0KDL",
        "outputId": "ad7882cf-dce6-4c5b-b578-d96d01227957"
      },
      "source": [
        "print(\" Results from Grid Search for ElasticNet:\" )\r\n",
        "\r\n",
        "print(\"\\n The best MSE ERROR across ALL searched params:\\n\",grid.best_score_)\r\n",
        "print(\"\\n The best parameters across ALL searched params:\\n\",grid.best_params_)\r\n"
      ],
      "execution_count": 21,
      "outputs": [
        {
          "output_type": "stream",
          "text": [
            " Results from Grid Search for ElasticNet:\n",
            "\n",
            " The best MSE ERROR across ALL searched params:\n",
            " -0.018852409230790505\n",
            "\n",
            " The best parameters across ALL searched params:\n",
            " {'estimator__alpha': 1.4e-05, 'estimator__l1_ratio': 0, 'estimator__loss': 'squared_loss', 'estimator__penalty': 'elasticnet', 'pca__n_components': 97, 'preprocess': StandardScaler(copy=True, with_mean=True, with_std=True), 'variance__threshold': 0}\n"
          ],
          "name": "stdout"
        }
      ]
    },
    {
      "cell_type": "markdown",
      "metadata": {
        "id": "-4UEz5kK0tOo"
      },
      "source": [
        "##### Optimized Stochastic Gradient Descent regression"
      ]
    },
    {
      "cell_type": "code",
      "metadata": {
        "id": "pS4YiDZG0w8v"
      },
      "source": [
        "variance_thre=VarianceThreshold(threshold=0)\r\n",
        "preprocess_method=StandardScaler()\r\n",
        "pca=PCA(n_components=97)\r\n",
        "sgd=SGDRegressor(loss ='squared_loss',penalty ='elasticnet',alpha =1.4e-05,l1_ratio=0)\r\n",
        "\r\n",
        "fit_start = time.time()\r\n",
        "X_train_var=variance_thre.fit_transform(X_train)\r\n",
        "X_train_pre=preprocess_method.fit_transform(X_train_var)\r\n",
        "X_train_pca=pca.fit_transform(X_train_pre)\r\n",
        "sgd.fit(X_train_pca,y_train)\r\n",
        "opt_sgd_fit_time=time.time() - fit_start\r\n",
        "\r\n",
        "opt_sgd_train_pred=sgd.predict(X_train_pca)\r\n",
        "\r\n",
        "pred_start=time.time()\r\n",
        "X_test_var=variance_thre.transform(X_test)\r\n",
        "X_test_pre=preprocess_method.transform(X_test)\r\n",
        "X_test_pca=pca.transform(X_test_pre)\r\n",
        "opt_sgd_test_pred=sgd.predict(X_test_pca)\r\n",
        "opt_sgd_pred_time=time.time() - pred_start"
      ],
      "execution_count": 42,
      "outputs": []
    },
    {
      "cell_type": "code",
      "metadata": {
        "colab": {
          "base_uri": "https://localhost:8080/"
        },
        "id": "OCrI3sKB5S-N",
        "outputId": "825dff2c-47e9-4c44-c511-8bb7a1ad8708"
      },
      "source": [
        "print(\"___________________________ TRAINING SET ___________________________\\n\")\r\n",
        "print(\"MSE error: \",mean_squared_error(y_train,opt_sgd_train_pred))\r\n",
        "print(\"R2 score: \",r2_score(y_train, opt_sgd_train_pred))\r\n",
        "print(\"Χρονος εκτέλεσης τελικού fit :\", opt_sgd_fit_time,\"seconds \\n\\n\\n\")\r\n",
        "\r\n",
        "\r\n",
        "\r\n",
        "print(\"___________________________ TEST SET ___________________________\\n\")\r\n",
        "print(\"MSE error: \",mean_squared_error(y_test,opt_sgd_test_pred))\r\n",
        "print(\"R2 score: \",r2_score(y_test, opt_sgd_test_pred))\r\n",
        "print(\"Χρονος εκτέλεσης predict :\", opt_sgd_pred_time,\"seconds\")"
      ],
      "execution_count": 43,
      "outputs": [
        {
          "output_type": "stream",
          "text": [
            "___________________________ TRAINING SET ___________________________\n",
            "\n",
            "MSE error:  0.01733703625757261\n",
            "R2 score:  0.6800561580185611\n",
            "Χρονος εκτέλεσης τελικού fit : 0.034369468688964844 seconds \n",
            "\n",
            "\n",
            "\n",
            "___________________________ TEST SET ___________________________\n",
            "\n",
            "MSE error:  0.018179420511054055\n",
            "R2 score:  0.666467705595523\n",
            "Χρονος εκτέλεσης predict : 0.0029511451721191406 seconds\n"
          ],
          "name": "stdout"
        }
      ]
    },
    {
      "cell_type": "markdown",
      "metadata": {
        "id": "kVx7rgdi6H7O"
      },
      "source": [
        "##### Non Optimized Stochastic Gradient Descent regression"
      ]
    },
    {
      "cell_type": "code",
      "metadata": {
        "id": "dC-hulvR6G97"
      },
      "source": [
        "sgdr=SGDRegressor()\r\n",
        "\r\n",
        "fit_start = time.time()\r\n",
        "sgdr.fit(X_train,y_train)\r\n",
        "nonopt_sgd_fit_time=time.time() - fit_start\r\n",
        "\r\n",
        "nonopt_sgd_train_pred=sgdr.predict(X_train)\r\n",
        "\r\n",
        "pred_start=time.time()\r\n",
        "nonopt_sgd_test_pred=sgdr.predict(X_test)\r\n",
        "nonopt_sgd_pred_time=time.time() - pred_start"
      ],
      "execution_count": 44,
      "outputs": []
    },
    {
      "cell_type": "code",
      "metadata": {
        "colab": {
          "base_uri": "https://localhost:8080/"
        },
        "id": "uvz4mfmw6iF2",
        "outputId": "211366f2-19d6-4a74-f5dd-a883b4b64c5c"
      },
      "source": [
        "print(\"___________________________ TRAINING SET ___________________________\\n\")\r\n",
        "print(\"MSE error: \",mean_squared_error(y_train,nonopt_sgd_train_pred))\r\n",
        "print(\"R2 score: \",r2_score(y_train, nonopt_sgd_train_pred))\r\n",
        "print(\"Χρονος εκτέλεσης τελικού fit :\", nonopt_sgd_fit_time,\"seconds \\n\\n\\n\")\r\n",
        "\r\n",
        "\r\n",
        "\r\n",
        "print(\"___________________________ TEST SET ___________________________\\n\")\r\n",
        "print(\"MSE error: \",mean_squared_error(y_test,nonopt_sgd_test_pred))\r\n",
        "print(\"R2 score: \",r2_score(y_test, nonopt_sgd_test_pred))\r\n",
        "print(\"Χρονος εκτέλεσης predict :\", nonopt_sgd_pred_time,\"seconds\")"
      ],
      "execution_count": 45,
      "outputs": [
        {
          "output_type": "stream",
          "text": [
            "___________________________ TRAINING SET ___________________________\n",
            "\n",
            "MSE error:  0.018964580710793526\n",
            "R2 score:  0.6500208730008215\n",
            "Χρονος εκτέλεσης τελικού fit : 0.012934207916259766 seconds \n",
            "\n",
            "\n",
            "\n",
            "___________________________ TEST SET ___________________________\n",
            "\n",
            "MSE error:  0.020085416423486317\n",
            "R2 score:  0.6314989787644042\n",
            "Χρονος εκτέλεσης predict : 0.0009288787841796875 seconds\n"
          ],
          "name": "stdout"
        }
      ]
    },
    {
      "cell_type": "markdown",
      "metadata": {
        "id": "h8HjMJ1b7hQC"
      },
      "source": [
        "# Neural Networks\r\n"
      ]
    },
    {
      "cell_type": "markdown",
      "metadata": {
        "id": "KYNon8K07_LL"
      },
      "source": [
        "Για την συγκεκριμένη κατηγορία αλγορίθμων θα χρησιμοποιήσουμε τον εξής :\r\n",
        "\r\n",
        "\r\n",
        "\r\n",
        "*   **Multi-layer Perceptron** regression\r\n",
        "\r\n",
        "\r\n"
      ]
    },
    {
      "cell_type": "markdown",
      "metadata": {
        "id": "D3EtH9VA8HXr"
      },
      "source": [
        "### Multi-layer Perceptron regression"
      ]
    },
    {
      "cell_type": "markdown",
      "metadata": {
        "id": "rsfRP-9R9Isb"
      },
      "source": [
        "Η κατηγορία αυτή συνδυάζει πολλούς νευρώνες μαζί με συναρτήσεις ενεργοποίησης  αναμεσα στα στρώματα , και στο τέλος ορίζεται και η συνάρτηση βελτιστοποίηση βαρών. Όπως καταλαβαίνουμε έχει αρκετές σημαντικές παραμέτρους και πιθανόν το να θέσουμε όλες αυτές προς αναζήτηση δεν θα ήταν το βέλτιστο ως προς την χρονική πολυπλοκότητα. Συνεπώς αρχικά θα θέσουμε προς βελτιστοποίηση την υπερπαράμετρο hidden_layer_sizes, την activation και solver. Θα αφήσουμε τις υπόλοιπες στις default τιμές και όταν καταλήξουμε για τις παραπάνω θα δοκιμάσουμε να βελτιστοποιήσουμε και μερικές ακόμα όπως batch_size και learning_rate. Σε αυτό το notebook θα φανεί μόνο η τελική εκτέλεση του κώδικα με την τελική δοκιμή"
      ]
    },
    {
      "cell_type": "code",
      "metadata": {
        "colab": {
          "base_uri": "https://localhost:8080/"
        },
        "id": "iNaSVWXRJqg8",
        "outputId": "7b9684f3-4153-47c2-a5f6-e75914c3cce5"
      },
      "source": [
        "threshold=[0]\r\n",
        "components=[i for i in range(22,100,3)]\r\n",
        "activation=['relu','tanh','logistic']\r\n",
        "solver=['sgd','adam']\r\n",
        "hid_lay_size=[(128,64,32,16,8),(256,128,64,32,16,8),(64,32,16,8)]\r\n",
        "\r\n",
        "pipe = Pipeline(steps=[('variance',VarianceThreshold()),('preprocess',StandardScaler()),('pca', PCA()),('estimator', MLPRegressor())])\r\n",
        "\r\n",
        "params_grid = {'variance__threshold': threshold,\r\n",
        "                'preprocess':[StandardScaler(),Normalizer(),MinMaxScaler()],\r\n",
        "                'pca__n_components': components,\r\n",
        "                'estimator__activation': activation,\r\n",
        "                'estimator__solver': solver,\r\n",
        "                'estimator__hidden_layer_sizes':hid_lay_size\r\n",
        "}\r\n",
        "grid = GridSearchCV(pipe, params_grid,cv=5,verbose=1,scoring=\"neg_mean_squared_error\",n_jobs=-1)\r\n",
        "grid.fit(X_train,y_train)"
      ],
      "execution_count": 14,
      "outputs": [
        {
          "output_type": "stream",
          "text": [
            "Fitting 5 folds for each of 1404 candidates, totalling 7020 fits\n"
          ],
          "name": "stdout"
        },
        {
          "output_type": "stream",
          "text": [
            "[Parallel(n_jobs=-1)]: Using backend LokyBackend with 2 concurrent workers.\n",
            "[Parallel(n_jobs=-1)]: Done  46 tasks      | elapsed:   24.0s\n",
            "[Parallel(n_jobs=-1)]: Done 196 tasks      | elapsed:  1.7min\n",
            "[Parallel(n_jobs=-1)]: Done 446 tasks      | elapsed:  4.0min\n",
            "[Parallel(n_jobs=-1)]: Done 796 tasks      | elapsed:  8.3min\n",
            "[Parallel(n_jobs=-1)]: Done 1246 tasks      | elapsed: 16.8min\n",
            "[Parallel(n_jobs=-1)]: Done 1796 tasks      | elapsed: 25.2min\n",
            "[Parallel(n_jobs=-1)]: Done 2446 tasks      | elapsed: 29.7min\n",
            "[Parallel(n_jobs=-1)]: Done 3196 tasks      | elapsed: 39.7min\n",
            "[Parallel(n_jobs=-1)]: Done 4046 tasks      | elapsed: 59.8min\n",
            "[Parallel(n_jobs=-1)]: Done 4996 tasks      | elapsed: 65.4min\n",
            "[Parallel(n_jobs=-1)]: Done 6046 tasks      | elapsed: 74.6min\n",
            "[Parallel(n_jobs=-1)]: Done 7020 out of 7020 | elapsed: 79.9min finished\n"
          ],
          "name": "stderr"
        },
        {
          "output_type": "execute_result",
          "data": {
            "text/plain": [
              "GridSearchCV(cv=5, error_score=nan,\n",
              "             estimator=Pipeline(memory=None,\n",
              "                                steps=[('variance',\n",
              "                                        VarianceThreshold(threshold=0.0)),\n",
              "                                       ('preprocess',\n",
              "                                        StandardScaler(copy=True,\n",
              "                                                       with_mean=True,\n",
              "                                                       with_std=True)),\n",
              "                                       ('pca',\n",
              "                                        PCA(copy=True, iterated_power='auto',\n",
              "                                            n_components=None,\n",
              "                                            random_state=None,\n",
              "                                            svd_solver='auto', tol=0.0,\n",
              "                                            whiten=False)),\n",
              "                                       ('estimator',\n",
              "                                        MLPRegressor(activation='relu...\n",
              "                         'pca__n_components': [22, 25, 28, 31, 34, 37, 40, 43,\n",
              "                                               46, 49, 52, 55, 58, 61, 64, 67,\n",
              "                                               70, 73, 76, 79, 82, 85, 88, 91,\n",
              "                                               94, 97],\n",
              "                         'preprocess': [StandardScaler(copy=True,\n",
              "                                                       with_mean=True,\n",
              "                                                       with_std=True),\n",
              "                                        Normalizer(copy=True, norm='l2'),\n",
              "                                        MinMaxScaler(copy=True,\n",
              "                                                     feature_range=(0, 1))],\n",
              "                         'variance__threshold': [0]},\n",
              "             pre_dispatch='2*n_jobs', refit=True, return_train_score=False,\n",
              "             scoring='neg_mean_squared_error', verbose=1)"
            ]
          },
          "metadata": {
            "tags": []
          },
          "execution_count": 14
        }
      ]
    },
    {
      "cell_type": "code",
      "metadata": {
        "colab": {
          "base_uri": "https://localhost:8080/"
        },
        "id": "GtoXZRNSMGe1",
        "outputId": "8e4314cd-eba7-4e48-a627-23a404cab1ec"
      },
      "source": [
        "print(\" Results from Grid Search for MLP:\" )\r\n",
        "\r\n",
        "print(\"\\n The best MSE ERROR across ALL searched params:\\n\",grid.best_score_)\r\n",
        "print(\"\\n The best parameters across ALL searched params:\\n\",grid.best_params_)\r\n"
      ],
      "execution_count": 15,
      "outputs": [
        {
          "output_type": "stream",
          "text": [
            " Results from Grid Search for MLP:\n",
            "\n",
            " The best MSE ERROR across ALL searched params:\n",
            " -0.01853612297921203\n",
            "\n",
            " The best parameters across ALL searched params:\n",
            " {'estimator__activation': 'tanh', 'estimator__hidden_layer_sizes': (128, 64, 32, 16, 8), 'estimator__solver': 'adam', 'pca__n_components': 94, 'preprocess': Normalizer(copy=True, norm='l2'), 'variance__threshold': 0}\n"
          ],
          "name": "stdout"
        }
      ]
    },
    {
      "cell_type": "markdown",
      "metadata": {
        "id": "tgo0BpglMIF0"
      },
      "source": [
        "##### Optimized Multi-layer Perceptron"
      ]
    },
    {
      "cell_type": "code",
      "metadata": {
        "id": "JqYxGip_OCmu"
      },
      "source": [
        "variance_thre=VarianceThreshold(threshold=0)\r\n",
        "preprocess_method=Normalizer()\r\n",
        "pca=PCA(n_components=34)\r\n",
        "mlp=MLPRegressor(activation='tanh',solver='adam',hidden_layer_sizes=(128, 64, 32, 16, 8))\r\n",
        "\r\n",
        "fit_start = time.time()\r\n",
        "X_train_var=variance_thre.fit_transform(X_train)\r\n",
        "X_train_pre=preprocess_method.fit_transform(X_train_var)\r\n",
        "X_train_pca=pca.fit_transform(X_train_pre)\r\n",
        "mlp.fit(X_train_pca,y_train)\r\n",
        "opt_mlp_fit_time=time.time() - fit_start\r\n",
        "\r\n",
        "opt_mlp_train_pred=mlp.predict(X_train_pca)\r\n",
        "\r\n",
        "pred_start=time.time()\r\n",
        "X_test_var=variance_thre.transform(X_test)\r\n",
        "X_test_pre=preprocess_method.transform(X_test)\r\n",
        "X_test_pca=pca.transform(X_test_pre)\r\n",
        "opt_mlp_test_pred=mlp.predict(X_test_pca)\r\n",
        "opt_mlp_pred_time=time.time() - pred_start"
      ],
      "execution_count": 52,
      "outputs": []
    },
    {
      "cell_type": "code",
      "metadata": {
        "colab": {
          "base_uri": "https://localhost:8080/"
        },
        "id": "S-hPXFovOpdn",
        "outputId": "9a9638b1-db92-413e-eb6c-4b86c4058bdf"
      },
      "source": [
        "print(\"___________________________ TRAINING SET ___________________________\\n\")\r\n",
        "print(\"MSE error: \",mean_squared_error(y_train,opt_mlp_train_pred))\r\n",
        "print(\"R2 score: \",r2_score(y_train, opt_mlp_train_pred))\r\n",
        "print(\"Χρονος εκτέλεσης τελικού fit :\", opt_mlp_fit_time,\"seconds \\n\\n\\n\")\r\n",
        "\r\n",
        "\r\n",
        "\r\n",
        "print(\"___________________________ TEST SET ___________________________\\n\")\r\n",
        "print(\"MSE error: \",mean_squared_error(y_test,opt_mlp_test_pred))\r\n",
        "print(\"R2 score: \",r2_score(y_test, opt_mlp_test_pred))\r\n",
        "print(\"Χρονος εκτέλεσης predict :\", opt_mlp_pred_time,\"seconds\")"
      ],
      "execution_count": 53,
      "outputs": [
        {
          "output_type": "stream",
          "text": [
            "___________________________ TRAINING SET ___________________________\n",
            "\n",
            "MSE error:  0.018536867495414125\n",
            "R2 score:  0.6579140450148644\n",
            "Χρονος εκτέλεσης τελικού fit : 0.70395827293396 seconds \n",
            "\n",
            "\n",
            "\n",
            "___________________________ TEST SET ___________________________\n",
            "\n",
            "MSE error:  0.019550748952370835\n",
            "R2 score:  0.6413083601072338\n",
            "Χρονος εκτέλεσης predict : 0.006902217864990234 seconds\n"
          ],
          "name": "stdout"
        }
      ]
    },
    {
      "cell_type": "markdown",
      "metadata": {
        "id": "LS50GIbWOzjv"
      },
      "source": [
        "##### Non Optimized Multi-layer Perceptron"
      ]
    },
    {
      "cell_type": "code",
      "metadata": {
        "id": "MqXYYf_XOykk"
      },
      "source": [
        "mlpr=MLPRegressor()\r\n",
        "\r\n",
        "fit_start = time.time()\r\n",
        "mlpr.fit(X_train,y_train)\r\n",
        "nonopt_mlp_fit_time=time.time() - fit_start\r\n",
        "\r\n",
        "nonopt_mlp_train_pred=mlpr.predict(X_train)\r\n",
        "\r\n",
        "pred_start=time.time()\r\n",
        "nonopt_mlp_test_pred=mlpr.predict(X_test)\r\n",
        "nonopt_mlp_pred_time=time.time() - pred_start"
      ],
      "execution_count": 48,
      "outputs": []
    },
    {
      "cell_type": "code",
      "metadata": {
        "colab": {
          "base_uri": "https://localhost:8080/"
        },
        "id": "I6vxiyf-PNgb",
        "outputId": "b2d64bd1-218e-4edc-9ef5-abe0653a6af5"
      },
      "source": [
        "print(\"___________________________ TRAINING SET ___________________________\\n\")\r\n",
        "print(\"MSE error: \",mean_squared_error(y_train,nonopt_mlp_train_pred))\r\n",
        "print(\"R2 score: \",r2_score(y_train, nonopt_mlp_train_pred))\r\n",
        "print(\"Χρονος εκτέλεσης τελικού fit :\", nonopt_mlp_fit_time,\"seconds \\n\\n\\n\")\r\n",
        "\r\n",
        "\r\n",
        "\r\n",
        "print(\"___________________________ TEST SET ___________________________\\n\")\r\n",
        "print(\"MSE error: \",mean_squared_error(y_test,nonopt_mlp_test_pred))\r\n",
        "print(\"R2 score: \",r2_score(y_test, nonopt_mlp_test_pred))\r\n",
        "print(\"Χρονος εκτέλεσης predict :\", nonopt_mlp_pred_time,\"seconds\")"
      ],
      "execution_count": 49,
      "outputs": [
        {
          "output_type": "stream",
          "text": [
            "___________________________ TRAINING SET ___________________________\n",
            "\n",
            "MSE error:  0.015299712582429827\n",
            "R2 score:  0.7176536547475776\n",
            "Χρονος εκτέλεσης τελικού fit : 0.5310478210449219 seconds \n",
            "\n",
            "\n",
            "\n",
            "___________________________ TEST SET ___________________________\n",
            "\n",
            "MSE error:  0.018859737863072747\n",
            "R2 score:  0.6539861302227548\n",
            "Χρονος εκτέλεσης predict : 0.001692056655883789 seconds\n"
          ],
          "name": "stdout"
        }
      ]
    },
    {
      "cell_type": "markdown",
      "metadata": {
        "id": "kho-C22sPgB1"
      },
      "source": [
        "# Boosting - Ensemble methods"
      ]
    },
    {
      "cell_type": "markdown",
      "metadata": {
        "id": "hlrC9xihPl6w"
      },
      "source": [
        "Για την συγκεκριμένη κατηγορία αλγορίθμων θα χρησιμοποιήσουμε τους εξής :\r\n",
        "\r\n",
        "\r\n",
        "\r\n",
        "*   ExtraTreesRegressor\r\n",
        "*   GradientBoostingRegressor\r\n",
        "\r\n",
        "\r\n"
      ]
    },
    {
      "cell_type": "markdown",
      "metadata": {
        "id": "ytB1PcNwVwYg"
      },
      "source": [
        "### ExtraTreesRegressor"
      ]
    },
    {
      "cell_type": "markdown",
      "metadata": {
        "id": "0mRmcKOlV24G"
      },
      "source": [
        "Αποτελεί εναν meta estimator καθώς συνδυάζει πολλά Randomized Decision Trees για την βελτιστοποίηση της τελικής πρόβλεψης. Σημαντικές υπερπαραμέτρους που θα θέσουμε προς βελτιστοποίηση είναι ο αριθμός των estimators δηλαδή πόσα Decision Trees θα συμμετάσχουν στο συνολικό μοντέλο, ο αριθμός των χαρακτηριστικών που θα λαμβάνει υπόψη κάθε δέντρο για να επιτύχει το βέλτιστο split, τον ελάχιστο αριθμό από samples που θα πρέπει να έχει ένα split για να θεωρηθεί ως node και να ληφθεί υπόψην όπως επίσης και τον ελάχιστο αριθμό από samples που χρειάζεται ένα node leaf να χωριστεί στα 2.\r\n",
        "\r\n",
        "Σε αυτή την περίπτωση θα χρησιμοποιήσουμε την εμπειρία μας από τα προηγούμενα αποτελέσματα και θα χρησιμοποιήσουμε την προεπεξεργασία που έχει χρησιμοποιηθεί απο την πλειοψηφία των προηγούμενων grid, δηλαδή threshold=0, components=97 και preprocess=StandardScalar.\r\n",
        "\r\n",
        "Αυτό γίνεται καθώς η χρονική πολυπλοκότητα έχει αυξηθεί πολύ με την προσθήκη όλων των υπερπαραμέτρων."
      ]
    },
    {
      "cell_type": "code",
      "metadata": {
        "colab": {
          "base_uri": "https://localhost:8080/"
        },
        "id": "IXR9hmqOYoOu",
        "outputId": "a338c0d4-56d9-45fc-ece4-66f60c27638f"
      },
      "source": [
        "threshold=[0]\r\n",
        "components=[97]\r\n",
        "estimators=range(50,126,25)\r\n",
        "max_features=range(20,100,20)\r\n",
        "min_samples_leaf= range(20,50,5)\r\n",
        "min_samples_split= range(15,36,5)\r\n",
        "\r\n",
        "\r\n",
        "pipe = Pipeline(steps=[('variance',VarianceThreshold()),('preprocess',StandardScaler()),('pca', PCA()),('estimator', ExtraTreesRegressor())])\r\n",
        "\r\n",
        "params_grid = {'variance__threshold': threshold,\r\n",
        "                'pca__n_components': components,\r\n",
        "               'estimator__n_estimators': estimators,\r\n",
        "               'estimator__max_features':max_features,\r\n",
        "               'estimator__min_samples_leaf':min_samples_leaf,\r\n",
        "               'estimator__min_samples_split':min_samples_split\r\n",
        "                \r\n",
        "}\r\n",
        "grid = GridSearchCV(pipe, params_grid,cv=5,verbose=1,scoring=\"neg_mean_squared_error\",n_jobs=-1)\r\n",
        "grid.fit(X_train,y_train)"
      ],
      "execution_count": 16,
      "outputs": [
        {
          "output_type": "stream",
          "text": [
            "Fitting 5 folds for each of 480 candidates, totalling 2400 fits\n"
          ],
          "name": "stdout"
        },
        {
          "output_type": "stream",
          "text": [
            "[Parallel(n_jobs=-1)]: Using backend LokyBackend with 2 concurrent workers.\n",
            "[Parallel(n_jobs=-1)]: Done  46 tasks      | elapsed:    7.5s\n",
            "[Parallel(n_jobs=-1)]: Done 196 tasks      | elapsed:   29.1s\n",
            "[Parallel(n_jobs=-1)]: Done 446 tasks      | elapsed:  1.0min\n",
            "[Parallel(n_jobs=-1)]: Done 796 tasks      | elapsed:  2.0min\n",
            "[Parallel(n_jobs=-1)]: Done 1246 tasks      | elapsed:  3.4min\n",
            "[Parallel(n_jobs=-1)]: Done 1796 tasks      | elapsed:  5.5min\n",
            "[Parallel(n_jobs=-1)]: Done 2400 out of 2400 | elapsed:  8.3min finished\n"
          ],
          "name": "stderr"
        },
        {
          "output_type": "execute_result",
          "data": {
            "text/plain": [
              "GridSearchCV(cv=5, error_score=nan,\n",
              "             estimator=Pipeline(memory=None,\n",
              "                                steps=[('variance',\n",
              "                                        VarianceThreshold(threshold=0.0)),\n",
              "                                       ('preprocess',\n",
              "                                        StandardScaler(copy=True,\n",
              "                                                       with_mean=True,\n",
              "                                                       with_std=True)),\n",
              "                                       ('pca',\n",
              "                                        PCA(copy=True, iterated_power='auto',\n",
              "                                            n_components=None,\n",
              "                                            random_state=None,\n",
              "                                            svd_solver='auto', tol=0.0,\n",
              "                                            whiten=False)),\n",
              "                                       ('estimator',\n",
              "                                        ExtraTreesRegressor(bootstrap...\n",
              "             iid='deprecated', n_jobs=-1,\n",
              "             param_grid={'estimator__max_features': range(20, 100, 20),\n",
              "                         'estimator__min_samples_leaf': range(20, 50, 5),\n",
              "                         'estimator__min_samples_split': range(15, 36, 5),\n",
              "                         'estimator__n_estimators': range(50, 126, 25),\n",
              "                         'pca__n_components': [97],\n",
              "                         'variance__threshold': [0]},\n",
              "             pre_dispatch='2*n_jobs', refit=True, return_train_score=False,\n",
              "             scoring='neg_mean_squared_error', verbose=1)"
            ]
          },
          "metadata": {
            "tags": []
          },
          "execution_count": 16
        }
      ]
    },
    {
      "cell_type": "code",
      "metadata": {
        "colab": {
          "base_uri": "https://localhost:8080/"
        },
        "id": "7kTP4qFeaR1Z",
        "outputId": "166de4a8-3cf4-4f04-a230-4322f3fc7777"
      },
      "source": [
        "print(\" Results from Grid Search for ExtraTreesRegressor:\" )\r\n",
        "\r\n",
        "print(\"\\n The best MSE ERROR across ALL searched params:\\n\",grid.best_score_)\r\n",
        "print(\"\\n The best parameters across ALL searched params:\\n\",grid.best_params_)\r\n"
      ],
      "execution_count": 17,
      "outputs": [
        {
          "output_type": "stream",
          "text": [
            " Results from Grid Search for ExtraTreesRegressor:\n",
            "\n",
            " The best MSE ERROR across ALL searched params:\n",
            " -0.023437894610755496\n",
            "\n",
            " The best parameters across ALL searched params:\n",
            " {'estimator__max_features': 80, 'estimator__min_samples_leaf': 20, 'estimator__min_samples_split': 20, 'estimator__n_estimators': 125, 'pca__n_components': 97, 'variance__threshold': 0}\n"
          ],
          "name": "stdout"
        }
      ]
    },
    {
      "cell_type": "markdown",
      "metadata": {
        "id": "RcmzhGMkaU3X"
      },
      "source": [
        "##### Optimized ExtraTreesRegressor"
      ]
    },
    {
      "cell_type": "code",
      "metadata": {
        "id": "OlM5rwPbdi2F"
      },
      "source": [
        "variance_thre=VarianceThreshold(threshold=0)\r\n",
        "preprocess_method=StandardScaler()\r\n",
        "pca=PCA(n_components=97)\r\n",
        "xtrreg=ExtraTreesRegressor(n_estimators=125,max_features=80,min_samples_leaf=20,min_samples_split=20)\r\n",
        "\r\n",
        "fit_start = time.time()\r\n",
        "X_train_var=variance_thre.fit_transform(X_train)\r\n",
        "X_train_pre=preprocess_method.fit_transform(X_train_var)\r\n",
        "X_train_pca=pca.fit_transform(X_train_pre)\r\n",
        "xtrreg.fit(X_train_pca,y_train)\r\n",
        "opt_xtrreg_fit_time=time.time() - fit_start\r\n",
        "\r\n",
        "opt_xtrreg_train_pred=xtrreg.predict(X_train_pca)\r\n",
        "\r\n",
        "pred_start=time.time()\r\n",
        "X_test_var=variance_thre.transform(X_test)\r\n",
        "X_test_pre=preprocess_method.transform(X_test)\r\n",
        "X_test_pca=pca.transform(X_test_pre)\r\n",
        "opt_xtrreg_test_pred=xtrreg.predict(X_test_pca)\r\n",
        "opt_xtrreg_pred_time=time.time() - pred_start"
      ],
      "execution_count": 69,
      "outputs": []
    },
    {
      "cell_type": "code",
      "metadata": {
        "colab": {
          "base_uri": "https://localhost:8080/"
        },
        "id": "yOX0P6o6fWkn",
        "outputId": "13e3acb3-fb5f-47fb-c2d9-61533ba787f3"
      },
      "source": [
        "print(\"___________________________ TRAINING SET ___________________________\\n\")\r\n",
        "print(\"MSE error: \",mean_squared_error(y_train,opt_xtrreg_train_pred))\r\n",
        "print(\"R2 score: \",r2_score(y_train, opt_xtrreg_train_pred))\r\n",
        "print(\"Χρονος εκτέλεσης τελικού fit :\", opt_xtrreg_fit_time,\"seconds \\n\\n\\n\")\r\n",
        "\r\n",
        "\r\n",
        "\r\n",
        "print(\"___________________________ TEST SET ___________________________\\n\")\r\n",
        "print(\"MSE error: \",mean_squared_error(y_test,opt_xtrreg_test_pred))\r\n",
        "print(\"R2 score: \",r2_score(y_test, opt_xtrreg_test_pred))\r\n",
        "print(\"Χρονος εκτέλεσης predict :\", opt_xtrreg_pred_time,\"seconds\")"
      ],
      "execution_count": 70,
      "outputs": [
        {
          "output_type": "stream",
          "text": [
            "___________________________ TRAINING SET ___________________________\n",
            "\n",
            "MSE error:  0.017807938399197788\n",
            "R2 score:  0.6713659621770983\n",
            "Χρονος εκτέλεσης τελικού fit : 0.7882816791534424 seconds \n",
            "\n",
            "\n",
            "\n",
            "___________________________ TEST SET ___________________________\n",
            "\n",
            "MSE error:  0.02236956794846772\n",
            "R2 score:  0.5895923460182563\n",
            "Χρονος εκτέλεσης predict : 0.01724863052368164 seconds\n"
          ],
          "name": "stdout"
        }
      ]
    },
    {
      "cell_type": "markdown",
      "metadata": {
        "id": "OCY1stSwfk4-"
      },
      "source": [
        "##### Non Optimized ExtraTreesRegressor"
      ]
    },
    {
      "cell_type": "code",
      "metadata": {
        "id": "84Tc4kUpfqXQ"
      },
      "source": [
        "xtrreg1=ExtraTreesRegressor()\r\n",
        "\r\n",
        "fit_start = time.time()\r\n",
        "xtrreg1.fit(X_train,y_train)\r\n",
        "nonopt_xtrreg_fit_time=time.time() - fit_start\r\n",
        "\r\n",
        "nonopt_xtrreg_train_pred=xtrreg1.predict(X_train)\r\n",
        "\r\n",
        "pred_start=time.time()\r\n",
        "nonopt_xtrreg_test_pred=xtrreg1.predict(X_test)\r\n",
        "nonopt_xtrreg_pred_time=time.time() - pred_start"
      ],
      "execution_count": 57,
      "outputs": []
    },
    {
      "cell_type": "code",
      "metadata": {
        "colab": {
          "base_uri": "https://localhost:8080/"
        },
        "id": "FdUH1eqHf8JC",
        "outputId": "b467f15a-d4eb-49a5-b3af-35a4d494362d"
      },
      "source": [
        "print(\"___________________________ TRAINING SET ___________________________\\n\")\r\n",
        "print(\"MSE error: \",mean_squared_error(y_train,nonopt_xtrreg_train_pred))\r\n",
        "print(\"R2 score: \",r2_score(y_train, nonopt_xtrreg_train_pred))\r\n",
        "print(\"Χρονος εκτέλεσης τελικού fit :\", nonopt_xtrreg_fit_time,\"seconds \\n\\n\\n\")\r\n",
        "\r\n",
        "\r\n",
        "\r\n",
        "print(\"___________________________ TEST SET ___________________________\\n\")\r\n",
        "print(\"MSE error: \",mean_squared_error(y_test,nonopt_xtrreg_test_pred))\r\n",
        "print(\"R2 score: \",r2_score(y_test, nonopt_xtrreg_test_pred))\r\n",
        "print(\"Χρονος εκτέλεσης predict :\", nonopt_xtrreg_pred_time,\"seconds\")"
      ],
      "execution_count": 58,
      "outputs": [
        {
          "output_type": "stream",
          "text": [
            "___________________________ TRAINING SET ___________________________\n",
            "\n",
            "MSE error:  1.8078529303422585e-31\n",
            "R2 score:  1.0\n",
            "Χρονος εκτέλεσης τελικού fit : 2.489067554473877 seconds \n",
            "\n",
            "\n",
            "\n",
            "___________________________ TEST SET ___________________________\n",
            "\n",
            "MSE error:  0.017990996867167916\n",
            "R2 score:  0.6699246568348203\n",
            "Χρονος εκτέλεσης predict : 0.014549732208251953 seconds\n"
          ],
          "name": "stdout"
        }
      ]
    },
    {
      "cell_type": "markdown",
      "metadata": {
        "id": "Rvi0MZ1xgWlg"
      },
      "source": [
        "### GradientBoostingRegressor"
      ]
    },
    {
      "cell_type": "markdown",
      "metadata": {
        "id": "i8T3DVoWgn4D"
      },
      "source": [
        "Ο αλγόριθμος αυτός είναι παρόμοιος με τον ExtraTreesRegressor που χρησιμοποιήσαμε παραπάνω μόνο που για την προσαρμογή των βαρών χρησιμοποιεί το gradient της loss function που επιλέγεται να χρησιμοποιηθεί. Οι βασικές υπερπαράμετροι είναι αυτές που χρησιμοποιήσαμε και στον ExtraTreesRegressor και επιπλέον θα αναζητήσουμε την βέλτιστη αρχιτεκτονική στις εξής υπερπαραμέτρους :\r\n",
        "loss : συνάρτηση σφάλματος, learning_rate.\r\n",
        "\r\n",
        "Ομοίως με την προηγούμενη περίπτωση θέτουμε εμείς την προεπεξεργασία και δεν την θεωρούμε υπερπαράμετρο. Επίσης, η αρχική σκέψη ήταν να θέσουμε ξανά όλες τις υπερπαραμέτρους προς αναζήτηση , αλλά έπειδη απο ~5ωρες αναζήτηση αποφασίσαμε να θέσουμε τις κοινές υπερπαραμέτρους με την ίδια τιμή και να κάνουμε αναζήτησ μόνο στις νέες."
      ]
    },
    {
      "cell_type": "code",
      "metadata": {
        "colab": {
          "base_uri": "https://localhost:8080/"
        },
        "id": "HpuvfZ2mnD0K",
        "outputId": "1aa00e9f-3eb2-486e-b105-255f217c9379"
      },
      "source": [
        "threshold=[0]\r\n",
        "components=[97]\r\n",
        "estimators=[125]\r\n",
        "max_features= [80]\r\n",
        "min_samples_leaf= [20]\r\n",
        "min_samples_split= [20]\r\n",
        "loss=['ls', 'lad', 'huber', 'quantile']\r\n",
        "learning_rate=[0.0001,0.0005,0.001,0.005,0.1,0.15]\r\n",
        "\r\n",
        "\r\n",
        "\r\n",
        "pipe = Pipeline(steps=[('variance',VarianceThreshold()),('preprocess',StandardScaler()),('pca', PCA()),('estimator', GradientBoostingRegressor())])\r\n",
        "\r\n",
        "params_grid = {'variance__threshold': threshold,\r\n",
        "                'pca__n_components': components,\r\n",
        "               'estimator__n_estimators': estimators,\r\n",
        "               'estimator__max_features':max_features,\r\n",
        "               'estimator__min_samples_leaf':min_samples_leaf,\r\n",
        "               'estimator__min_samples_split':min_samples_split,\r\n",
        "               'estimator__loss':loss,\r\n",
        "               'estimator__learning_rate':learning_rate,\r\n",
        "\r\n",
        "                \r\n",
        "}\r\n",
        "grid = GridSearchCV(pipe, params_grid,cv=5,verbose=1,scoring=\"neg_mean_squared_error\",n_jobs=-1)\r\n",
        "grid.fit(X_train,y_train)"
      ],
      "execution_count": 91,
      "outputs": [
        {
          "output_type": "stream",
          "text": [
            "Fitting 5 folds for each of 24 candidates, totalling 120 fits\n"
          ],
          "name": "stdout"
        },
        {
          "output_type": "stream",
          "text": [
            "[Parallel(n_jobs=-1)]: Using backend LokyBackend with 2 concurrent workers.\n",
            "[Parallel(n_jobs=-1)]: Done  46 tasks      | elapsed:  1.8min\n",
            "[Parallel(n_jobs=-1)]: Done 120 out of 120 | elapsed:  4.8min finished\n"
          ],
          "name": "stderr"
        },
        {
          "output_type": "execute_result",
          "data": {
            "text/plain": [
              "GridSearchCV(cv=5, error_score=nan,\n",
              "             estimator=Pipeline(memory=None,\n",
              "                                steps=[('variance',\n",
              "                                        VarianceThreshold(threshold=0.0)),\n",
              "                                       ('preprocess',\n",
              "                                        StandardScaler(copy=True,\n",
              "                                                       with_mean=True,\n",
              "                                                       with_std=True)),\n",
              "                                       ('pca',\n",
              "                                        PCA(copy=True, iterated_power='auto',\n",
              "                                            n_components=None,\n",
              "                                            random_state=None,\n",
              "                                            svd_solver='auto', tol=0.0,\n",
              "                                            whiten=False)),\n",
              "                                       ('estimator',\n",
              "                                        GradientBoostingRegressor(alp...\n",
              "                                                      0.005, 0.1, 0.15],\n",
              "                         'estimator__loss': ['ls', 'lad', 'huber', 'quantile'],\n",
              "                         'estimator__max_features': [80],\n",
              "                         'estimator__min_samples_leaf': [20],\n",
              "                         'estimator__min_samples_split': [20],\n",
              "                         'estimator__n_estimators': [125],\n",
              "                         'pca__n_components': [97],\n",
              "                         'variance__threshold': [0]},\n",
              "             pre_dispatch='2*n_jobs', refit=True, return_train_score=False,\n",
              "             scoring='neg_mean_squared_error', verbose=1)"
            ]
          },
          "metadata": {
            "tags": []
          },
          "execution_count": 91
        }
      ]
    },
    {
      "cell_type": "code",
      "metadata": {
        "colab": {
          "base_uri": "https://localhost:8080/"
        },
        "id": "vl7ZD2VPoy1b",
        "outputId": "5125de2f-924d-4826-df58-d7301f18976e"
      },
      "source": [
        "print(\" Results from Grid Search for GradientBoostingRegressor:\" )\r\n",
        "\r\n",
        "print(\"\\n The best MSE ERROR across ALL searched params:\\n\",grid.best_score_)\r\n",
        "print(\"\\n The best parameters across ALL searched params:\\n\",grid.best_params_)\r\n"
      ],
      "execution_count": 92,
      "outputs": [
        {
          "output_type": "stream",
          "text": [
            " Results from Grid Search for GradientBoostingRegressor:\n",
            "\n",
            " The best MSE ERROR across ALL searched params:\n",
            " -0.021334827834544396\n",
            "\n",
            " The best parameters across ALL searched params:\n",
            " {'estimator__learning_rate': 0.1, 'estimator__loss': 'ls', 'estimator__max_features': 80, 'estimator__min_samples_leaf': 20, 'estimator__min_samples_split': 20, 'estimator__n_estimators': 125, 'pca__n_components': 97, 'variance__threshold': 0}\n"
          ],
          "name": "stdout"
        }
      ]
    },
    {
      "cell_type": "markdown",
      "metadata": {
        "id": "0R8jH2Ato4AO"
      },
      "source": [
        "##### Optimized GradientBoostingRegressor"
      ]
    },
    {
      "cell_type": "code",
      "metadata": {
        "id": "TN03IlyvpbZI"
      },
      "source": [
        "variance_thre=VarianceThreshold(threshold=0)\r\n",
        "preprocess_method=StandardScaler()\r\n",
        "pca=PCA(n_components=97)\r\n",
        "gbr=GradientBoostingRegressor(n_estimators=125,max_features=80,min_samples_leaf=20,min_samples_split=20,loss=\"ls\",learning_rate=0.1)\r\n",
        "\r\n",
        "fit_start = time.time()\r\n",
        "X_train_var=variance_thre.fit_transform(X_train)\r\n",
        "X_train_pre=preprocess_method.fit_transform(X_train_var)\r\n",
        "X_train_pca=pca.fit_transform(X_train_pre)\r\n",
        "gbr.fit(X_train_pca,y_train)\r\n",
        "opt_gbr_fit_time=time.time() - fit_start\r\n",
        "\r\n",
        "opt_gbr_train_pred=gbr.predict(X_train_pca)\r\n",
        "\r\n",
        "pred_start=time.time()\r\n",
        "X_test_var=variance_thre.transform(X_test)\r\n",
        "X_test_pre=preprocess_method.transform(X_test)\r\n",
        "X_test_pca=pca.transform(X_test_pre)\r\n",
        "opt_gbr_test_pred=gbr.predict(X_test_pca)\r\n",
        "opt_gbr_pred_time=time.time() - pred_start"
      ],
      "execution_count": 65,
      "outputs": []
    },
    {
      "cell_type": "code",
      "metadata": {
        "colab": {
          "base_uri": "https://localhost:8080/"
        },
        "id": "v7A5usFzpvm2",
        "outputId": "751c6bdc-e4ef-4c0f-f64e-152c9629fd57"
      },
      "source": [
        "print(\"___________________________ TRAINING SET ___________________________\\n\")\r\n",
        "print(\"MSE error: \",mean_squared_error(y_train,opt_gbr_train_pred))\r\n",
        "print(\"R2 score: \",r2_score(y_train, opt_gbr_train_pred))\r\n",
        "print(\"Χρονος εκτέλεσης τελικού fit :\", opt_gbr_fit_time,\"seconds \\n\\n\\n\")\r\n",
        "\r\n",
        "\r\n",
        "\r\n",
        "print(\"___________________________ TEST SET ___________________________\\n\")\r\n",
        "print(\"MSE error: \",mean_squared_error(y_test,opt_gbr_test_pred))\r\n",
        "print(\"R2 score: \",r2_score(y_test, opt_gbr_test_pred))\r\n",
        "print(\"Χρονος εκτέλεσης predict :\", opt_gbr_pred_time,\"seconds\")"
      ],
      "execution_count": 66,
      "outputs": [
        {
          "output_type": "stream",
          "text": [
            "___________________________ TRAINING SET ___________________________\n",
            "\n",
            "MSE error:  0.007994881528903552\n",
            "R2 score:  0.8524596087507992\n",
            "Χρονος εκτέλεσης τελικού fit : 4.2110724449157715 seconds \n",
            "\n",
            "\n",
            "\n",
            "___________________________ TEST SET ___________________________\n",
            "\n",
            "MSE error:  0.018954575744466528\n",
            "R2 score:  0.6522461684809326\n",
            "Χρονος εκτέλεσης predict : 0.00420689582824707 seconds\n"
          ],
          "name": "stdout"
        }
      ]
    },
    {
      "cell_type": "markdown",
      "metadata": {
        "id": "bA_eyStGp9dY"
      },
      "source": [
        "##### Non Optimized GradientBoostingRegressor"
      ]
    },
    {
      "cell_type": "code",
      "metadata": {
        "id": "i7MH3HElqCih"
      },
      "source": [
        "gbr1=GradientBoostingRegressor()\r\n",
        "\r\n",
        "fit_start = time.time()\r\n",
        "gbr1.fit(X_train,y_train)\r\n",
        "nonopt_gbr_fit_time=time.time() - fit_start\r\n",
        "\r\n",
        "nonopt_gbr_train_pred=gbr1.predict(X_train)\r\n",
        "\r\n",
        "pred_start=time.time()\r\n",
        "nonopt_gbr_test_pred=gbr1.predict(X_test)\r\n",
        "nonopt_gbr_pred_time=time.time() - pred_start"
      ],
      "execution_count": 67,
      "outputs": []
    },
    {
      "cell_type": "code",
      "metadata": {
        "colab": {
          "base_uri": "https://localhost:8080/"
        },
        "id": "05hLBJWNqSdV",
        "outputId": "eae0047f-b0bf-4adb-ce63-855a5c5fa13e"
      },
      "source": [
        "print(\"___________________________ TRAINING SET ___________________________\\n\")\r\n",
        "print(\"MSE error: \",mean_squared_error(y_train,nonopt_gbr_train_pred))\r\n",
        "print(\"R2 score: \",r2_score(y_train, nonopt_gbr_train_pred))\r\n",
        "print(\"Χρονος εκτέλεσης τελικού fit :\", nonopt_gbr_fit_time,\"seconds \\n\\n\\n\")\r\n",
        "\r\n",
        "\r\n",
        "\r\n",
        "print(\"___________________________ TEST SET ___________________________\\n\")\r\n",
        "print(\"MSE error: \",mean_squared_error(y_test,nonopt_gbr_test_pred))\r\n",
        "print(\"R2 score: \",r2_score(y_test, nonopt_gbr_test_pred))\r\n",
        "print(\"Χρονος εκτέλεσης predict :\", nonopt_gbr_pred_time,\"seconds\")"
      ],
      "execution_count": 68,
      "outputs": [
        {
          "output_type": "stream",
          "text": [
            "___________________________ TRAINING SET ___________________________\n",
            "\n",
            "MSE error:  0.007857851472173815\n",
            "R2 score:  0.8549884102233056\n",
            "Χρονος εκτέλεσης τελικού fit : 1.9940714836120605 seconds \n",
            "\n",
            "\n",
            "\n",
            "___________________________ TEST SET ___________________________\n",
            "\n",
            "MSE error:  0.018643697890629002\n",
            "R2 score:  0.6579497498358456\n",
            "Χρονος εκτέλεσης predict : 0.0015175342559814453 seconds\n"
          ],
          "name": "stdout"
        }
      ]
    },
    {
      "cell_type": "markdown",
      "metadata": {
        "id": "oTOAehP1q67m"
      },
      "source": [
        "# Τελικά Αποτελέσματα"
      ]
    },
    {
      "cell_type": "code",
      "metadata": {
        "colab": {
          "base_uri": "https://localhost:8080/",
          "height": 483
        },
        "id": "n9B-SRGMrnDI",
        "outputId": "a2a93cdd-c60b-439c-e60d-d17d9421fe2a"
      },
      "source": [
        "table = {'Algorithm': [' Opt Ridge regression','Non Opt Ridge regression',' Opt Lasso','Non Opt Lasso','Opt Elastic-Net','Non Opt Elastic-Net',\r\n",
        "                       'Opt Stochastic Gradient Descent regression', 'Non Opt Stochastic Gradient Descent regression','Opt Multi-layer Perceptron regression',\r\n",
        "                       'Non Opt Multi-layer Perceptron regression','Opt ExtraTreesRegressor','Non Opt ExtraTreesRegressor',\r\n",
        "                       'Opt GradientBoostingRegressor','Non Opt GradientBoostingRegressor'],\r\n",
        "        'MSE Training': [mean_squared_error(y_train,opt_rid_train_pred),\r\n",
        "                        mean_squared_error(y_train,nonopt_rid_train_pred),\r\n",
        "                        mean_squared_error(y_train,opt_las_train_pred),\r\n",
        "                        mean_squared_error(y_train,nonopt_las_train_pred),\r\n",
        "                        mean_squared_error(y_train,opt_elas_train_pred),\r\n",
        "                        mean_squared_error(y_train,nonopt_elas_train_pred),\r\n",
        "                        mean_squared_error(y_train,opt_sgd_train_pred),\r\n",
        "                        mean_squared_error(y_train,nonopt_sgd_train_pred),\r\n",
        "                        mean_squared_error(y_train,opt_mlp_train_pred),\r\n",
        "                        mean_squared_error(y_train,nonopt_mlp_train_pred),\r\n",
        "                        mean_squared_error(y_train,opt_xtrreg_train_pred),\r\n",
        "                        mean_squared_error(y_train,nonopt_xtrreg_train_pred),\r\n",
        "                        mean_squared_error(y_train,opt_gbr_train_pred),\r\n",
        "                        mean_squared_error(y_train,nonopt_gbr_train_pred)],\r\n",
        "         'MSE Test': [mean_squared_error(y_test,opt_rid_test_pred),\r\n",
        "                      mean_squared_error(y_test,nonopt_rid_test_pred),\r\n",
        "                      mean_squared_error(y_test,opt_las_test_pred),\r\n",
        "                      mean_squared_error(y_test,nonopt_las_test_pred),\r\n",
        "                      mean_squared_error(y_test,opt_elas_test_pred),\r\n",
        "                      mean_squared_error(y_test,nonopt_elas_test_pred),\r\n",
        "                      mean_squared_error(y_test,opt_sgd_test_pred),\r\n",
        "                      mean_squared_error(y_test,nonopt_sgd_test_pred),\r\n",
        "                      mean_squared_error(y_test,opt_mlp_test_pred),\r\n",
        "                      mean_squared_error(y_test,nonopt_mlp_test_pred),\r\n",
        "                      mean_squared_error(y_test,opt_xtrreg_test_pred),\r\n",
        "                      mean_squared_error(y_test,nonopt_xtrreg_test_pred),\r\n",
        "                      mean_squared_error(y_test,opt_gbr_test_pred),\r\n",
        "                      mean_squared_error(y_test,nonopt_gbr_test_pred)],\r\n",
        "         'Time Fit': [opt_rid_fit_time,\r\n",
        "                      nonopt_rid_fit_time,\r\n",
        "                      opt_las_fit_time,\r\n",
        "                      nonopt_las_fit_time,\r\n",
        "                      opt_elas_fit_time,\r\n",
        "                      nonopt_elas_fit_time,\r\n",
        "                      opt_sgd_fit_time,\r\n",
        "                      nonopt_sgd_fit_time,\r\n",
        "                      opt_mlp_fit_time,\r\n",
        "                      nonopt_mlp_fit_time,\r\n",
        "                      opt_xtrreg_fit_time,\r\n",
        "                      nonopt_xtrreg_fit_time,\r\n",
        "                      opt_gbr_fit_time,\r\n",
        "                      nonopt_gbr_fit_time],\r\n",
        "         'Time Predict': [opt_rid_pred_time,\r\n",
        "                          nonopt_rid_pred_time,\r\n",
        "                          opt_las_pred_time,\r\n",
        "                          nonopt_las_pred_time,\r\n",
        "                          opt_elas_pred_time,\r\n",
        "                          nonopt_elas_pred_time,\r\n",
        "                          opt_sgd_pred_time,\r\n",
        "                          nonopt_sgd_pred_time,\r\n",
        "                          opt_mlp_pred_time,\r\n",
        "                          nonopt_mlp_pred_time,\r\n",
        "                          opt_xtrreg_pred_time,\r\n",
        "                          nonopt_xtrreg_pred_time,\r\n",
        "                          opt_gbr_pred_time,\r\n",
        "                          nonopt_gbr_pred_time]\r\n",
        "        }\r\n",
        "\r\n",
        "grad={ 'Algorithm':['Ridge regression','Lasso','Elastic-Net','Stochastic Gradient Descent regression','Multi-layer Perceptron regression','ExtraTreesRegressor',\r\n",
        "                       'GradientBoostingRegressor'],\r\n",
        "      'Performance Change Training %':[(mean_squared_error(y_train,nonopt_rid_train_pred)-mean_squared_error(y_train,opt_rid_train_pred))*100/mean_squared_error(y_train,nonopt_rid_train_pred),\r\n",
        "(mean_squared_error(y_train,nonopt_las_train_pred)-mean_squared_error(y_train,opt_las_train_pred))*100/mean_squared_error(y_train,nonopt_las_train_pred),\r\n",
        "(mean_squared_error(y_train,nonopt_elas_train_pred)-mean_squared_error(y_train,opt_elas_train_pred))*100/mean_squared_error(y_train,nonopt_elas_train_pred),\r\n",
        "(mean_squared_error(y_train,nonopt_sgd_train_pred)-mean_squared_error(y_train,opt_sgd_train_pred))*100/mean_squared_error(y_train,nonopt_sgd_train_pred),\r\n",
        "(mean_squared_error(y_train,nonopt_mlp_train_pred)-mean_squared_error(y_train,opt_mlp_train_pred))*100/mean_squared_error(y_train,nonopt_mlp_train_pred),\r\n",
        "(mean_squared_error(y_train,nonopt_xtrreg_train_pred)-mean_squared_error(y_train,opt_xtrreg_train_pred))*100/mean_squared_error(y_train,nonopt_xtrreg_train_pred),\r\n",
        "(mean_squared_error(y_train,nonopt_gbr_train_pred)-mean_squared_error(y_train,opt_gbr_train_pred))*100/mean_squared_error(y_train,nonopt_gbr_train_pred)\r\n",
        "                        ],\r\n",
        "      'Performance Change Test %':[(mean_squared_error(y_test,nonopt_rid_test_pred)-mean_squared_error(y_test,opt_rid_test_pred))*100/mean_squared_error(y_test,nonopt_rid_test_pred),\r\n",
        "(mean_squared_error(y_test,nonopt_las_test_pred)-mean_squared_error(y_test,opt_las_test_pred))*100/mean_squared_error(y_test,nonopt_las_test_pred),\r\n",
        "(mean_squared_error(y_test,nonopt_elas_test_pred)-mean_squared_error(y_test,opt_elas_test_pred))*100/mean_squared_error(y_test,nonopt_elas_test_pred),\r\n",
        "(mean_squared_error(y_test,nonopt_sgd_test_pred)-mean_squared_error(y_test,opt_sgd_test_pred))*100/mean_squared_error(y_test,nonopt_sgd_test_pred),\r\n",
        "(mean_squared_error(y_test,nonopt_mlp_test_pred)-mean_squared_error(y_test,opt_mlp_test_pred))*100/mean_squared_error(y_test,nonopt_mlp_test_pred),\r\n",
        "(mean_squared_error(y_test,nonopt_xtrreg_test_pred)-mean_squared_error(y_test,opt_xtrreg_test_pred))*100/mean_squared_error(y_test,nonopt_xtrreg_test_pred),\r\n",
        "(mean_squared_error(y_test,nonopt_gbr_test_pred)-mean_squared_error(y_test,opt_gbr_test_pred))*100/mean_squared_error(y_test,nonopt_gbr_test_pred)\r\n",
        "                        ]    \r\n",
        "}\r\n",
        "table_df=pd.DataFrame(data=table)\r\n",
        "grad_df=pd.DataFrame(data=grad)\r\n",
        "table_df\r\n"
      ],
      "execution_count": 81,
      "outputs": [
        {
          "output_type": "execute_result",
          "data": {
            "text/html": [
              "<div>\n",
              "<style scoped>\n",
              "    .dataframe tbody tr th:only-of-type {\n",
              "        vertical-align: middle;\n",
              "    }\n",
              "\n",
              "    .dataframe tbody tr th {\n",
              "        vertical-align: top;\n",
              "    }\n",
              "\n",
              "    .dataframe thead th {\n",
              "        text-align: right;\n",
              "    }\n",
              "</style>\n",
              "<table border=\"1\" class=\"dataframe\">\n",
              "  <thead>\n",
              "    <tr style=\"text-align: right;\">\n",
              "      <th></th>\n",
              "      <th>Algorithm</th>\n",
              "      <th>MSE Training</th>\n",
              "      <th>MSE Test</th>\n",
              "      <th>Time Fit</th>\n",
              "      <th>Time Predict</th>\n",
              "    </tr>\n",
              "  </thead>\n",
              "  <tbody>\n",
              "    <tr>\n",
              "      <th>0</th>\n",
              "      <td>Opt Ridge regression</td>\n",
              "      <td>1.690339e-02</td>\n",
              "      <td>0.017898</td>\n",
              "      <td>0.034905</td>\n",
              "      <td>0.003319</td>\n",
              "    </tr>\n",
              "    <tr>\n",
              "      <th>1</th>\n",
              "      <td>Non Opt Ridge regression</td>\n",
              "      <td>1.681353e-02</td>\n",
              "      <td>0.017867</td>\n",
              "      <td>0.011631</td>\n",
              "      <td>0.001938</td>\n",
              "    </tr>\n",
              "    <tr>\n",
              "      <th>2</th>\n",
              "      <td>Opt Lasso</td>\n",
              "      <td>1.686537e-02</td>\n",
              "      <td>0.018160</td>\n",
              "      <td>0.023484</td>\n",
              "      <td>0.006083</td>\n",
              "    </tr>\n",
              "    <tr>\n",
              "      <th>3</th>\n",
              "      <td>Non Opt Lasso</td>\n",
              "      <td>5.418775e-02</td>\n",
              "      <td>0.054527</td>\n",
              "      <td>0.005643</td>\n",
              "      <td>0.002242</td>\n",
              "    </tr>\n",
              "    <tr>\n",
              "      <th>4</th>\n",
              "      <td>Opt Elastic-Net</td>\n",
              "      <td>1.860324e-02</td>\n",
              "      <td>0.019588</td>\n",
              "      <td>0.025760</td>\n",
              "      <td>0.003291</td>\n",
              "    </tr>\n",
              "    <tr>\n",
              "      <th>5</th>\n",
              "      <td>Non Opt Elastic-Net</td>\n",
              "      <td>5.418775e-02</td>\n",
              "      <td>0.054527</td>\n",
              "      <td>0.008486</td>\n",
              "      <td>0.002059</td>\n",
              "    </tr>\n",
              "    <tr>\n",
              "      <th>6</th>\n",
              "      <td>Opt Stochastic Gradient Descent regression</td>\n",
              "      <td>1.733704e-02</td>\n",
              "      <td>0.018179</td>\n",
              "      <td>0.034369</td>\n",
              "      <td>0.002951</td>\n",
              "    </tr>\n",
              "    <tr>\n",
              "      <th>7</th>\n",
              "      <td>Non Opt Stochastic Gradient Descent regression</td>\n",
              "      <td>1.896458e-02</td>\n",
              "      <td>0.020085</td>\n",
              "      <td>0.012934</td>\n",
              "      <td>0.000929</td>\n",
              "    </tr>\n",
              "    <tr>\n",
              "      <th>8</th>\n",
              "      <td>Opt Multi-layer Perceptron regression</td>\n",
              "      <td>1.853687e-02</td>\n",
              "      <td>0.019551</td>\n",
              "      <td>0.703958</td>\n",
              "      <td>0.006902</td>\n",
              "    </tr>\n",
              "    <tr>\n",
              "      <th>9</th>\n",
              "      <td>Non Opt Multi-layer Perceptron regression</td>\n",
              "      <td>1.529971e-02</td>\n",
              "      <td>0.018860</td>\n",
              "      <td>0.531048</td>\n",
              "      <td>0.001692</td>\n",
              "    </tr>\n",
              "    <tr>\n",
              "      <th>10</th>\n",
              "      <td>Opt ExtraTreesRegressor</td>\n",
              "      <td>1.780794e-02</td>\n",
              "      <td>0.022370</td>\n",
              "      <td>0.788282</td>\n",
              "      <td>0.017249</td>\n",
              "    </tr>\n",
              "    <tr>\n",
              "      <th>11</th>\n",
              "      <td>Non Opt ExtraTreesRegressor</td>\n",
              "      <td>1.807853e-31</td>\n",
              "      <td>0.017991</td>\n",
              "      <td>2.489068</td>\n",
              "      <td>0.014550</td>\n",
              "    </tr>\n",
              "    <tr>\n",
              "      <th>12</th>\n",
              "      <td>Opt GradientBoostingRegressor</td>\n",
              "      <td>7.994882e-03</td>\n",
              "      <td>0.018955</td>\n",
              "      <td>4.211072</td>\n",
              "      <td>0.004207</td>\n",
              "    </tr>\n",
              "    <tr>\n",
              "      <th>13</th>\n",
              "      <td>Non Opt GradientBoostingRegressor</td>\n",
              "      <td>7.857851e-03</td>\n",
              "      <td>0.018644</td>\n",
              "      <td>1.994071</td>\n",
              "      <td>0.001518</td>\n",
              "    </tr>\n",
              "  </tbody>\n",
              "</table>\n",
              "</div>"
            ],
            "text/plain": [
              "                                         Algorithm  ...  Time Predict\n",
              "0                             Opt Ridge regression  ...      0.003319\n",
              "1                         Non Opt Ridge regression  ...      0.001938\n",
              "2                                        Opt Lasso  ...      0.006083\n",
              "3                                    Non Opt Lasso  ...      0.002242\n",
              "4                                  Opt Elastic-Net  ...      0.003291\n",
              "5                              Non Opt Elastic-Net  ...      0.002059\n",
              "6       Opt Stochastic Gradient Descent regression  ...      0.002951\n",
              "7   Non Opt Stochastic Gradient Descent regression  ...      0.000929\n",
              "8            Opt Multi-layer Perceptron regression  ...      0.006902\n",
              "9        Non Opt Multi-layer Perceptron regression  ...      0.001692\n",
              "10                         Opt ExtraTreesRegressor  ...      0.017249\n",
              "11                     Non Opt ExtraTreesRegressor  ...      0.014550\n",
              "12                   Opt GradientBoostingRegressor  ...      0.004207\n",
              "13               Non Opt GradientBoostingRegressor  ...      0.001518\n",
              "\n",
              "[14 rows x 5 columns]"
            ]
          },
          "metadata": {
            "tags": []
          },
          "execution_count": 81
        }
      ]
    },
    {
      "cell_type": "code",
      "metadata": {
        "colab": {
          "base_uri": "https://localhost:8080/",
          "height": 266
        },
        "id": "GkmpNh1S6lF-",
        "outputId": "f32ff59f-4d8e-4291-c9b8-280ca0f1f450"
      },
      "source": [
        "grad_df"
      ],
      "execution_count": 82,
      "outputs": [
        {
          "output_type": "execute_result",
          "data": {
            "text/html": [
              "<div>\n",
              "<style scoped>\n",
              "    .dataframe tbody tr th:only-of-type {\n",
              "        vertical-align: middle;\n",
              "    }\n",
              "\n",
              "    .dataframe tbody tr th {\n",
              "        vertical-align: top;\n",
              "    }\n",
              "\n",
              "    .dataframe thead th {\n",
              "        text-align: right;\n",
              "    }\n",
              "</style>\n",
              "<table border=\"1\" class=\"dataframe\">\n",
              "  <thead>\n",
              "    <tr style=\"text-align: right;\">\n",
              "      <th></th>\n",
              "      <th>Algorithm</th>\n",
              "      <th>Performance Change Training %</th>\n",
              "      <th>Performance Change Test %</th>\n",
              "    </tr>\n",
              "  </thead>\n",
              "  <tbody>\n",
              "    <tr>\n",
              "      <th>0</th>\n",
              "      <td>Ridge regression</td>\n",
              "      <td>-5.344994e-01</td>\n",
              "      <td>-0.176284</td>\n",
              "    </tr>\n",
              "    <tr>\n",
              "      <th>1</th>\n",
              "      <td>Lasso</td>\n",
              "      <td>6.887605e+01</td>\n",
              "      <td>66.696167</td>\n",
              "    </tr>\n",
              "    <tr>\n",
              "      <th>2</th>\n",
              "      <td>Elastic-Net</td>\n",
              "      <td>6.566892e+01</td>\n",
              "      <td>64.076643</td>\n",
              "    </tr>\n",
              "    <tr>\n",
              "      <th>3</th>\n",
              "      <td>Stochastic Gradient Descent regression</td>\n",
              "      <td>8.582022e+00</td>\n",
              "      <td>9.489452</td>\n",
              "    </tr>\n",
              "    <tr>\n",
              "      <th>4</th>\n",
              "      <td>Multi-layer Perceptron regression</td>\n",
              "      <td>-2.115827e+01</td>\n",
              "      <td>-3.663949</td>\n",
              "    </tr>\n",
              "    <tr>\n",
              "      <th>5</th>\n",
              "      <td>ExtraTreesRegressor</td>\n",
              "      <td>-9.850325e+30</td>\n",
              "      <td>-24.337568</td>\n",
              "    </tr>\n",
              "    <tr>\n",
              "      <th>6</th>\n",
              "      <td>GradientBoostingRegressor</td>\n",
              "      <td>-1.743862e+00</td>\n",
              "      <td>-1.667469</td>\n",
              "    </tr>\n",
              "  </tbody>\n",
              "</table>\n",
              "</div>"
            ],
            "text/plain": [
              "                                Algorithm  ...  Performance Change Test %\n",
              "0                        Ridge regression  ...                  -0.176284\n",
              "1                                   Lasso  ...                  66.696167\n",
              "2                             Elastic-Net  ...                  64.076643\n",
              "3  Stochastic Gradient Descent regression  ...                   9.489452\n",
              "4       Multi-layer Perceptron regression  ...                  -3.663949\n",
              "5                     ExtraTreesRegressor  ...                 -24.337568\n",
              "6               GradientBoostingRegressor  ...                  -1.667469\n",
              "\n",
              "[7 rows x 3 columns]"
            ]
          },
          "metadata": {
            "tags": []
          },
          "execution_count": 82
        }
      ]
    },
    {
      "cell_type": "code",
      "metadata": {
        "colab": {
          "base_uri": "https://localhost:8080/",
          "height": 281
        },
        "id": "hBbbS98NyxLf",
        "outputId": "d1a62ec2-49ee-4d65-f99e-825b4c00ff31"
      },
      "source": [
        "averaged_cv_mse = [0.018768919968286668,\r\n",
        "0.01873375153129813,\r\n",
        "0.01873375153129813,\r\n",
        "0.018852409230790505,\r\n",
        "0.01853612297921203,\r\n",
        "0.023437894610755496,\r\n",
        "0.021175078853048333]\r\n",
        "algos=['Ridge regression','Lasso','Elastic-Net','Stochastic Gradient Descent regression','Multi-layer Perceptron regression','ExtraTreesRegressor',\r\n",
        "                       'GradientBoostingRegressor']\r\n",
        "y_pos = np.arange(len(averaged_cv_mse))\r\n",
        "plt.barh(y_pos, averaged_cv_mse, align='center',color='red')\r\n",
        "plt.yticks(y_pos, algos)\r\n",
        "plt.title('MSE Averaged')\r\n",
        "plt.show()"
      ],
      "execution_count": 79,
      "outputs": [
        {
          "output_type": "display_data",
          "data": {
            "image/png": "[encoded data removed]",
            "text/plain": [
              "<Figure size 432x288 with 1 Axes>"
            ]
          },
          "metadata": {
            "tags": [],
            "needs_background": "light"
          }
        }
      ]
    },
    {
      "cell_type": "markdown",
      "metadata": {
        "id": "w9ioU6F595lg"
      },
      "source": [
        "# Σχολιασμός"
      ]
    },
    {
      "cell_type": "markdown",
      "metadata": {
        "id": "CaICBDQh-NNr"
      },
      "source": [
        "\r\n",
        "\r\n",
        "*   Αρχικά να αναφέρουμε πως παρατηρούμε σε ορισμένες περιπτώσεις μείωση της απόδοσης τόσο στο train όσο και στο test set. Σε περιπτώσεις που η μείωση είναι αρκετά μικρή δεν μας απασχολεί ιδιαίτερα καθώς πρέπει να υπενθυμίσουμε ότι το μοντέλο που επιλέγεται από τον grid search έχει επιλεχθεί απο 5-fold cross validation error, δηλαδή έχει εξεταστεί σε μεγαλύτερη ποικιλία και είναι αρκετά πιθανό αν επιλεχθεί ένα διαφορετικό test σετ να μας οδηγήσει σε ίσως καλύτερα αποτελέσματα. Η αξιοσημείωτη περίπτωση που η μείωση είναι πολύ μεγάλη είναι του ExtraTreesRegressor, το μοντέλο αυτό παρατηρήσαμε ότι οδηγεί σε πάρα πολύ καλά αποτελέσματα στη non optimised μορφή του. Το συγκεκριμένο μοντέλο θα εξεταστεί ξεχωριστά παρακάτω , για να παρατηρήσουμε καλύτερα τη συμπεριφορά του.\r\n",
        "*   Ένα αίτιο που ορισμένους αλγορίθμους δεν καταφέραμε να βελτιστοποιήσουμε είναι καθώς δεν θέσαμε όλες τις διαθέσιμες υπερπαραμέτρους στο gridsearch όπως επίσης δεν θέσαμε όλα τα πιθανά εύρη. Αυτη η επιλογή πάρθηκε καθαρά για λόγους χρονικής πολυπλοκότητας.\r\n",
        "*   Στα θετικά του optimization που πραγματοποιήσαμε είχαμε πολύ μεγάλη βελτίωση στους αλγορίθμους Lasso και ElasticNet τάξης του 66%\r\n",
        "*    Οι χρόνοι τόσο των Linear μοντέλων, οσο και του SGD είναι αρκετά μειωμένοι, ενώ οι χρόνοι που αφορούν το MLP και τα Boosting-Ensamble μοντέλα είναι ελαφρώς αυξημένοι. Αυτό οφείλεται στο γεγονός ότι τα μοντέλα αυτά, έχουν είτε πολλαπλά στρώματα είτε πολλαπλούς estimators.\r\n",
        "* Στη σημείο αυτό επιθυμούμε να καταλήξουμε σε ένα τελικό μοντέλο για να προτείνουμε για το συγκεκριμένο πρόβλημα παλινδρόμησης. Σύμφωνα με τα αποτελέσματα του Cross validation προκύπτει ότι το MLP έχει την καλύτερη απόδοση για πολύ μικρή διαφορά, αλλά σύμφωνα με το Test Set τόσο ο Ridge Regressor όσο και ο Non Opt ExtraTreesRegressor επιτυγχάνουν τα βέλτιστα αποτελέσματα. Θα πραγματοποήσουμε ένα kfold cross validation στον Non Opt ExtraTreesRegressor για να έχουμε μια πιο πλήρη εικόνα.\r\n",
        "\r\n"
      ]
    },
    {
      "cell_type": "code",
      "metadata": {
        "colab": {
          "base_uri": "https://localhost:8080/"
        },
        "id": "kzMYDumXH5zn",
        "outputId": "472bffd4-e535-4c2d-d9c4-6e75ca751891"
      },
      "source": [
        "reg = ExtraTreesRegressor()\r\n",
        "scores = cross_validate(reg, X_train, y_train, cv=5, scoring='neg_mean_squared_error',verbose=4,n_jobs=-1)"
      ],
      "execution_count": 89,
      "outputs": [
        {
          "output_type": "stream",
          "text": [
            "[Parallel(n_jobs=-1)]: Using backend LokyBackend with 2 concurrent workers.\n",
            "[Parallel(n_jobs=-1)]: Done   5 out of   5 | elapsed:    7.8s finished\n"
          ],
          "name": "stderr"
        }
      ]
    },
    {
      "cell_type": "code",
      "metadata": {
        "colab": {
          "base_uri": "https://localhost:8080/"
        },
        "id": "puzjwEJ7I-dt",
        "outputId": "eae6b296-657b-4aae-fadc-b88307f6bced"
      },
      "source": [
        "scores"
      ],
      "execution_count": 90,
      "outputs": [
        {
          "output_type": "execute_result",
          "data": {
            "text/plain": [
              "{'fit_time': array([2.84350133, 2.87142491, 2.86084652, 2.84727883, 1.98895979]),\n",
              " 'score_time': array([0.02057195, 0.02246737, 0.0194428 , 0.02347875, 0.01248527]),\n",
              " 'test_score': array([-0.01729989, -0.02222294, -0.02117555, -0.01965679, -0.01491544])}"
            ]
          },
          "metadata": {
            "tags": []
          },
          "execution_count": 90
        }
      ]
    },
    {
      "cell_type": "markdown",
      "metadata": {
        "id": "Ft1PCLQrJH6b"
      },
      "source": [
        "Δεν παρατηρούμε κάποια έντονη διαφορά με τους υπόλοιπους αλγορίθμους , συνεπώς η τελική μας επιλογή για το συγκεκριμένο πρόβλημα είναι το παρακάτω pipeline :\r\n",
        "\r\n",
        "*  StandardScaler()\r\n",
        "*  PCA(n_components=94)\r\n",
        "*  Ridge(alpha=40)"
      ]
    }
  ]
}